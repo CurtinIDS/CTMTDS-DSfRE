{
 "cells": [
  {
   "cell_type": "markdown",
   "id": "4253c85d",
   "metadata": {},
   "source": [
    "<div>\n",
    "<img src=\"../assets/ittc_logo_full.png\" width=\"500\"/>\n",
    "</div>\n",
    "\n",
    "\n",
    "# Practical 5: Visualisation\n",
    "\n",
    "## In this practical\n",
    "\n",
    "In this practical you will:\n",
    "\n",
    "1. Create visualisations in Python using matplotlib's pyplot toolbox\n",
    "2. Use matplotlib to make adjustments to Pandas plots\n",
    "3. Explore statistical visualisations techniques\n",
    "\n",
    "## 1. Module imports\n",
    "\n",
    "Like last practical, we first need to import matplotlib's functionality\n",
    "\n",
    "As we only need to `matplotlib`'s `pyplot` toolbox, we'll only import that and rename it to `plt` to make typing easier.\n",
    "We'll also import `pandas` like the last two practicals.\n",
    "We'll also be using a new library, `seaborn`, which allows us to do advanced plotting using matplotlib in a much simpler way"
   ]
  },
  {
   "cell_type": "code",
   "execution_count": null,
   "id": "75f1a81b",
   "metadata": {},
   "outputs": [],
   "source": [
    "import matplotlib.pyplot as plt\n",
    "import pandas as pd\n",
    "import seaborn"
   ]
  },
  {
   "cell_type": "markdown",
   "id": "f8cf07e2",
   "metadata": {},
   "source": [
    "# 2. Importing, cleaning, and first visualisations\n",
    "\n",
    "The first steps in trying to extract insights out of data is to import it and clean it, like the previous practicals. For this practical, we'll be using a few files. They are:\n",
    "- Gapminder GDP\n",
    "    Gross Domestic Product (GDP) per capita, which measures the value of everything produced in a country during a year divided by the total number of people. The units are in \"international dollars\", a virtual currency adjusted for purchasing power and roughly equivalent to a US dollar."
   ]
  },
  {
   "cell_type": "code",
   "execution_count": null,
   "id": "75f4b32e",
   "metadata": {},
   "outputs": [],
   "source": [
    "run_data_path = \"../data/run17.csv\"\n",
    "run_df = pd.read_csv(run_data_path)\n",
    "run_df"
   ]
  },
  {
   "cell_type": "markdown",
   "id": "848b0a06",
   "metadata": {},
   "source": [
    "### Data exploration\n",
    "\n",
    "The first step in understand data is to get an intuitive understanding of what your datasets contains. Explore the data using the following dataframe **methods**:\n",
    "- `df.info()`\n",
    "- `df.describe()`\n",
    "- `df['column'].unique()` for a given column\n",
    "\n",
    "\n",
    "<!-- Think about how you would answer the following questions:\n",
    "1. What ages are represented?\n",
    "2. How many countries are represented in the dataset?\n",
    "3. Are there any trends for GDP against life expectancy? -->"
   ]
  },
  {
   "cell_type": "code",
   "execution_count": null,
   "id": "29768e90",
   "metadata": {},
   "outputs": [],
   "source": [
    "# Info - check that Non-Null are equal to the total number of entries!\n",
    "run_df.info()"
   ]
  },
  {
   "cell_type": "code",
   "execution_count": null,
   "id": "f00d2ff4",
   "metadata": {},
   "outputs": [],
   "source": [
    "# Describe"
   ]
  },
  {
   "cell_type": "code",
   "execution_count": null,
   "id": "7264b603",
   "metadata": {},
   "outputs": [],
   "source": [
    "# Unique City"
   ]
  },
  {
   "cell_type": "code",
   "execution_count": null,
   "id": "a1fe818b",
   "metadata": {},
   "outputs": [],
   "source": [
    "# Unique values of other categorical variables"
   ]
  },
  {
   "cell_type": "markdown",
   "id": "42ed8fd1",
   "metadata": {},
   "source": [
    "#### Preparing a visualisation\n",
    "\n",
    "A good visualisation includes several elements\n",
    "- Well labelled axes (including units!)\n",
    "- Clearly presented information\n",
    "If you are ever unsure of how to use a method, the documentation is your friend. \n",
    "\n",
    "You can find the documentation for the pandas DataFrame `plot.scatter` method [here](https://pandas.pydata.org/docs/reference/api/pandas.DataFrame.plot.scatter.html). \n",
    "\n",
    "Note the invert operator `~` being used on boolean (true/false) data"
   ]
  },
  {
   "cell_type": "markdown",
   "id": "91092605",
   "metadata": {},
   "source": [
    "Getting an idea of the overall breakdown"
   ]
  },
  {
   "cell_type": "code",
   "execution_count": null,
   "id": "ef146228",
   "metadata": {},
   "outputs": [],
   "source": [
    "# plot `gdpPercap` against `lifeExp`\n",
    "# hint: like last practical, plt.scatter()\n",
    "long_run_df = run_df[run_df[\"event\"] == \"10 Mile\"]\n",
    "mask = long_run_df[\"sex\"] == \"M\"\n",
    "male_df = long_run_df[mask]\n",
    "female_df = long_run_df[~mask]\n",
    "\n",
    "plt.scatter(x=male_df[\"age\"], y=male_df[\"net_sec\"], alpha=0.1)\n",
    "plt.scatter(x=female_df[\"age\"], y=female_df[\"net_sec\"], alpha=0.1)\n",
    "\n",
    "plt.xlabel(\"Age (years)\")\n",
    "plt.ylabel(\"Time (s)\")\n",
    "plt.legend([\"Male Time\", \"Female Time\"])\n",
    "plt.show()"
   ]
  },
  {
   "cell_type": "markdown",
   "id": "6f443d29",
   "metadata": {},
   "source": [
    "# Seaborn - Advanced visualisation\n",
    "\n",
    "Seaborn is another python library based on and built around `matplotlib`.   \n",
    "It provides a high-level interface and intelligent defaults to produce attractive yet informative statistical graphs.\n",
    "\n",
    "# Distributional understanding\n",
    "Before doing statistical analysis, you need to understand the underlying data and how it is distributed.\n",
    "\n",
    "Seaborn makes a lot of this easier, less time consuming, and pretty by default.  \n",
    "We'll use seaborn's  `displot` function, short for distribution plot"
   ]
  },
  {
   "cell_type": "code",
   "execution_count": null,
   "id": "897a2176",
   "metadata": {},
   "outputs": [],
   "source": [
    "seaborn.set_theme(style=\"ticks\")\n",
    "seaborn.displot(data=long_run_df, x=\"age\", col=\"sex\", kde=True)\n",
    "\n",
    "plt.suptitle(\"Breakdown of runner age conditioned by sex\")\n",
    "plt.tight_layout()"
   ]
  },
  {
   "cell_type": "markdown",
   "id": "95ee3e05",
   "metadata": {},
   "source": [
    "❓ What relationships can you see in the plot above? Is there anything worth investigating?"
   ]
  },
  {
   "cell_type": "markdown",
   "id": "e3fae235",
   "metadata": {},
   "source": [
    "### Seaborn theme\n",
    "\n",
    "Seaborn allows us to update all future figures by setting a theme, without needing to pass in arguments.  \n",
    "\n",
    "Try reproducing the above plot but with the pre-made theme `style` called `darkgrid`"
   ]
  },
  {
   "cell_type": "code",
   "execution_count": null,
   "id": "7021398b",
   "metadata": {},
   "outputs": [],
   "source": [
    "seaborn.set_theme(style=\"darkgrid\")\n",
    "\n",
    "seaborn.displot(data=long_run_df, x=\"age\", col=\"sex\", kde=True)\n",
    "\n",
    "plt.suptitle(\"Breakdown of runner age conditioned by sex\")\n",
    "plt.tight_layout()"
   ]
  },
  {
   "cell_type": "markdown",
   "id": "5c52202f",
   "metadata": {},
   "source": [
    "### Scatter Matrix for Data exploration\n",
    "A common technique for exploring relationships is called a scatter matrix, which scatters each variable against another.\n",
    "We can also assign colours based on categorcal attributes, such as `sex`"
   ]
  },
  {
   "cell_type": "code",
   "execution_count": null,
   "id": "a212be3f",
   "metadata": {},
   "outputs": [],
   "source": [
    "# note that darkgrid theme set above is still active\n",
    "seaborn.pairplot(long_run_df, hue=\"sex\", plot_kws={\"alpha\": 0.1}, palette={\"M\": \"blue\", \"F\": \"red\"})"
   ]
  },
  {
   "cell_type": "markdown",
   "id": "d62baf32",
   "metadata": {},
   "source": [
    "❓ Questions\n",
    "- What trends can you see in the data above?\n",
    "- Discuss what other visualisations might you make (using `matplotlib` or `seaborn`) to explore relationships in the data? How might you condition or display the data beforehand?\n",
    "\n",
    "Make another two more plots based on your discussion, possibly creating a new, conditioned dataframe to plot"
   ]
  },
  {
   "cell_type": "code",
   "execution_count": null,
   "id": "c6f8f5d2",
   "metadata": {},
   "outputs": [],
   "source": [
    "# Vis 1"
   ]
  },
  {
   "cell_type": "code",
   "execution_count": null,
   "id": "79f79442",
   "metadata": {},
   "outputs": [],
   "source": [
    "# Vis 2"
   ]
  },
  {
   "cell_type": "markdown",
   "id": "737c04c1",
   "metadata": {},
   "source": [
    "# Belt wear\n",
    "Let's use the belt wear data from the lecture to explore what makes a good visualisation\n",
    "- The thickness along an 1800mm long drive-belt is measured at various points (\"X\") on installation\n",
    "- The thickness at these points is then re-measured at several other dates and noted in \"Result\" as a measurement in mm\n",
    "- This data is stored in a spreadsheet"
   ]
  },
  {
   "cell_type": "code",
   "execution_count": null,
   "id": "f48cf645",
   "metadata": {},
   "outputs": [],
   "source": [
    "belt_wear_df = pd.read_csv(\"../data/belt.csv\")\n",
    "belt_wear_df"
   ]
  },
  {
   "cell_type": "code",
   "execution_count": null,
   "id": "9f0359e5",
   "metadata": {},
   "outputs": [],
   "source": [
    "# Belt wear info, describe, etc"
   ]
  },
  {
   "cell_type": "code",
   "execution_count": null,
   "id": "184b33c8",
   "metadata": {},
   "outputs": [],
   "source": []
  },
  {
   "cell_type": "code",
   "execution_count": null,
   "id": "fc7eb5eb",
   "metadata": {},
   "outputs": [],
   "source": []
  },
  {
   "cell_type": "code",
   "execution_count": null,
   "id": "bcaa1697",
   "metadata": {},
   "outputs": [],
   "source": [
    "# Get date to correct type data\n",
    "belt_wear_df[\"Test Date\"] = pd.to_datetime(belt_wear_df[\"Test Date\"])\n",
    "# Create a \"relative test date\" column\n",
    "belt_wear_df[\"Relative Test Date (days)\"] = (\n",
    "    belt_wear_df[\"Test Date\"] - belt_wear_df[\"Test Date\"].min()\n",
    ").dt.days\n",
    "belt_wear_df.info()"
   ]
  },
  {
   "cell_type": "markdown",
   "id": "acb495f9",
   "metadata": {},
   "source": [
    "#### ❓ Whats wrong with the below plot?\n",
    "Run the below cell to produce a figure, and think about what may be wrong"
   ]
  },
  {
   "cell_type": "code",
   "execution_count": null,
   "id": "52feaa5a",
   "metadata": {},
   "outputs": [],
   "source": [
    "seaborn.scatterplot(belt_wear_df, x=\"X\", y=\"Result\", hue=\"Test Date\")"
   ]
  },
  {
   "cell_type": "markdown",
   "id": "69cde8ca",
   "metadata": {},
   "source": [
    "#### 🏆 Challenge: Create a better plot using the elements of visualisations shown in the lecture:\n",
    "- Scale\n",
    "- Conditioning\n",
    "- Perception - Colour and length\n",
    "- Transformations\n",
    "- Context\n",
    "- Smoothing and other large data considerations\n",
    "Not all of these may be applicable\n",
    "\n",
    "<details>\n",
    "<summary>Some hints and suggestions (click me):</summary>\n",
    "\n",
    "- Make the plot bigger with `plt.figure(figsize=(x,y))` (you will need to create the figure before plotting, otherwise a second figure is made and the first is unchanged)\n",
    "- Create a \"Relative Test Date (days)\" column and colour by that, rather than an absolute date\n",
    "- Use a colour scale (such as 'viridis') for the test dates , not random colours. See [here](https://seaborn.pydata.org/tutorial/color_palettes.html)  \n",
    "- Connect the lines for a given date\n",
    "- Include a legend\n",
    "- Use x and y axes labels that are easier to understand \n",
    "    - What actually are \"X\" and \"Result\"?\n",
    "    - Include units!\n",
    "- Set the y-axes limits properly\n",
    "- Create a good title with `plt.suptitle` (short for super title) \n",
    "\n",
    "\n",
    "To do all of this, read the [scatterplot documentation](https://seaborn.pydata.org/generated/seaborn.scatterplot.html) and find the correct methods.  \n",
    "</details>\n",
    "\n",
    "\n",
    "\n",
    "\n",
    "Talk to your neighbours and see what they do!"
   ]
  },
  {
   "cell_type": "code",
   "execution_count": null,
   "id": "a191aca8",
   "metadata": {},
   "outputs": [],
   "source": [
    "# Make your plot better in this cell!\n",
    "seaborn.scatterplot(belt_wear_df, x=\"X\", y=\"Result\", hue=\"Test Date\")"
   ]
  },
  {
   "cell_type": "markdown",
   "id": "87ac8520",
   "metadata": {},
   "source": [
    "# Exploring complex relationships in Concrete data\n",
    "\n",
    "Let's switch back to use a reliability dataset that while a little less clearcut, may be more relevant.\n",
    "\n",
    "Let's do some exploratory data analysis to better understand it:\n",
    "- Understand data information\n",
    "- Understand data distributions\n",
    "- Understand any particularly clear relationships with a scatterplot Matrix\n",
    "- Improving Visualisations"
   ]
  },
  {
   "cell_type": "code",
   "execution_count": null,
   "id": "0b29cae4",
   "metadata": {},
   "outputs": [],
   "source": [
    "conrete_path = \"../data/concrete.csv\"\n",
    "concrete_df = pd.read_csv(conrete_path)\n",
    "concrete_df"
   ]
  },
  {
   "cell_type": "markdown",
   "id": "ced7b529",
   "metadata": {},
   "source": [
    "`seaborn.displot` documentation can be found here: https://seaborn.pydata.org/generated/seaborn.displot.html"
   ]
  },
  {
   "cell_type": "code",
   "execution_count": null,
   "id": "49975878",
   "metadata": {},
   "outputs": [],
   "source": [
    "# create a displot of concrete age\n",
    "# seaborn.displot() of \"Age\"\n",
    "\n",
    "\n",
    "# Esnure your axes are labeled and you have a plt.suptitle()\n",
    "\n",
    "# tight layout helps in case of overlap issues\n",
    "plt.tight_layout()"
   ]
  },
  {
   "cell_type": "markdown",
   "id": "f3dbadd1",
   "metadata": {},
   "source": [
    "#### 🖊 Example analysis: does the amount of water play a role in compressive strength?\n",
    "1. Get an understanding of how your variables are distributed"
   ]
  },
  {
   "cell_type": "code",
   "execution_count": null,
   "id": "a3ab92e4",
   "metadata": {},
   "outputs": [],
   "source": [
    "# seaborn.displot() of \"Water\"\n",
    "\n",
    "\n",
    "# Esnure your axes are labeled and you have a plt.suptitle()\n",
    "\n",
    "# tight layout helps in case of overlap issues\n",
    "plt.tight_layout()"
   ]
  },
  {
   "cell_type": "markdown",
   "id": "b87a81e3",
   "metadata": {},
   "source": [
    "2. Come up with a way a way of conditioning data, e.g. resample water data into categorical bins. We can use `pd.cut` for this, by giving it bins based on the above plot. \n",
    "\n",
    "[pd.cut](https://pandas.pydata.org/docs/reference/api/pandas.cut.html) is somewhat similar to pd.resample, but will transform one column into categories based on the bins given\n",
    "\n",
    "You could start by trying `bins = [120, 160, 200, 240]`"
   ]
  },
  {
   "cell_type": "code",
   "execution_count": null,
   "id": "fad92fff",
   "metadata": {},
   "outputs": [],
   "source": [
    "bins = []  # Fill me in!\n",
    "# Adding a new column called \"water_bin\"\n",
    "concrete_df[\"water_bin\"] = pd.cut(x=concrete_df[\"Water\"], bins=bins)\n",
    "# Showing the new column we made\n",
    "concrete_df[\"water_bin\"]"
   ]
  },
  {
   "cell_type": "markdown",
   "id": "d4ec6103",
   "metadata": {},
   "source": [
    "3. Visualise!"
   ]
  },
  {
   "cell_type": "code",
   "execution_count": null,
   "id": "94019712",
   "metadata": {},
   "outputs": [],
   "source": [
    "# Make a displot of \"CompressiveStrength\" with the `col` arugment` being our new data column: \"water_bin\"\n",
    "seaborn.displot(data=concrete_df, x=\"fill me!\", col=\"fill me!\", kde=True)\n",
    "\n",
    "plt.suptitle(\"Distribution of water used in concrete\")\n",
    "plt.tight_layout()"
   ]
  },
  {
   "cell_type": "markdown",
   "id": "227bb0b2",
   "metadata": {},
   "source": [
    "Did you gather any insights?\n",
    "\n",
    "Would more bins make a difference?\n",
    "\n",
    "Are there any other variables you might want to have a look into?"
   ]
  },
  {
   "cell_type": "markdown",
   "id": "76aef558",
   "metadata": {},
   "source": [
    "## What next?\n",
    "After making observations of the data finding possible correlations, what do you do next?\n",
    "1. Form a Hypothesis\n",
    "2. Test with an experiment\n",
    "3. Analysis Data\n",
    "4. Report Conclusion\n",
    "5. Repeat..."
   ]
  },
  {
   "cell_type": "code",
   "execution_count": null,
   "id": "81fa77a9",
   "metadata": {},
   "outputs": [],
   "source": []
  },
  {
   "cell_type": "markdown",
   "id": "6d2075cc",
   "metadata": {},
   "source": [
    "# 🏆 Bonus: Chemical Data\n",
    "Time permitting, perform similar analysis of the chemical data.\n"
   ]
  },
  {
   "cell_type": "code",
   "execution_count": null,
   "id": "d5e6b84e",
   "metadata": {},
   "outputs": [],
   "source": [
    "# import csv file from the ../data directory and save as a variable\n",
    "# dataframe looking wierd? make sure to use header=1\n",
    "pd.read_csv(\"../data/chemicalmanufacturingprocess.csv\", header=1)"
   ]
  },
  {
   "cell_type": "code",
   "execution_count": null,
   "id": "953969fe",
   "metadata": {},
   "outputs": [],
   "source": [
    "# info, describe, etc"
   ]
  },
  {
   "cell_type": "markdown",
   "id": "6a81c1fd",
   "metadata": {},
   "source": [
    "Before going too far, note that there are 58 variables. Trying to correlate all these plots will results in $58 \\cdot 58 = 3364 plots$! This image is roughly 14000x14000 pixels and might take your jupyter notebook some time to produce and be hard to read. \n",
    "\n",
    "Some general methods to deal with this:\n",
    "1. Make smart decisions about which factors to look at based on real world information and prior knowledge (cant do that here)\n",
    "2. Arbitrarily select some columns to process (better than not doing anything)\n",
    "3. \n",
    "2. Perform dimensionality reduction. e.g. Perform Principle Component Analysis (PCA) and only analyse the principle components with the most variance.\n",
    "4. Contact your data science team....\n",
    "\n",
    "\n",
    "While we wont perform PCA here, for extra reading, see [PCA from the `scikitlearn` package](https://scikit-learn.org/stable/modules/generated/sklearn.decomposition.PCA.html)\n"
   ]
  },
  {
   "cell_type": "code",
   "execution_count": null,
   "id": "3edd096e",
   "metadata": {},
   "outputs": [],
   "source": [
    "# Select some columns to look at"
   ]
  },
  {
   "cell_type": "code",
   "execution_count": null,
   "id": "1b450771",
   "metadata": {},
   "outputs": [],
   "source": [
    "# some basic plots of some single variables"
   ]
  },
  {
   "cell_type": "code",
   "execution_count": null,
   "id": "2c2bc985",
   "metadata": {},
   "outputs": [],
   "source": [
    "# Some mutlivariate analysis"
   ]
  },
  {
   "cell_type": "code",
   "execution_count": null,
   "id": "553e5013",
   "metadata": {},
   "outputs": [],
   "source": []
  },
  {
   "cell_type": "code",
   "execution_count": null,
   "id": "7cf5854f",
   "metadata": {},
   "outputs": [],
   "source": []
  }
 ],
 "metadata": {
  "kernelspec": {
   "display_name": "env",
   "language": "python",
   "name": "python3"
  },
  "language_info": {
   "codemirror_mode": {
    "name": "ipython",
    "version": 3
   },
   "file_extension": ".py",
   "mimetype": "text/x-python",
   "name": "python",
   "nbconvert_exporter": "python",
   "pygments_lexer": "ipython3",
   "version": "3.10.11"
  }
 },
 "nbformat": 4,
 "nbformat_minor": 5
}
