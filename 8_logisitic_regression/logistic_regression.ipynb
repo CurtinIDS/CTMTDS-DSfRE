{
 "cells": [
  {
   "cell_type": "markdown",
   "id": "82154a36",
   "metadata": {},
   "source": [
    "<img src=\"../assets/ittc_logo_full.png\" height=150>\n",
    "\n",
    "# Lecture 8 Logistic Regression\n",
    "\n",
    "## In this Practical\n",
    "\n",
    "In this practical you will:\n",
    "\n",
    "1. Execute code chunks to fit a logistic regression model to the financial default data"
   ]
  },
  {
   "cell_type": "markdown",
   "id": "ed694b6b",
   "metadata": {},
   "source": [
    "## 1. Import the dataset"
   ]
  },
  {
   "cell_type": "code",
   "execution_count": null,
   "id": "a23bac07",
   "metadata": {},
   "outputs": [],
   "source": [
    "import pandas as pd\n",
    "import numpy as np\n",
    "import matplotlib.pyplot as plt\n",
    "import seaborn as sns\n",
    "import statsmodels.api as sm\n",
    "from sklearn.model_selection import train_test_split\n",
    "from sklearn.metrics import confusion_matrix, roc_curve, auc\n",
    "\n",
    "# Load the dataset\n",
    "df = pd.read_csv(\"data/Default.csv\")\n",
    "\n",
    "# Display the first few rows\n",
    "df.head()\n"
   ]
  },
  {
   "cell_type": "markdown",
   "id": "228bd971",
   "metadata": {},
   "source": [
    "## 2. Exploratory Data Analysis (EDA)\n",
    "We examine the relationship between balance, income, student status, and default."
   ]
  },
  {
   "cell_type": "code",
   "execution_count": null,
   "id": "7ed728ec",
   "metadata": {},
   "outputs": [],
   "source": [
    "# Convert categorical variables to proper types\n",
    "df['default'] = df['default'].astype('category')\n",
    "df['student'] = df['student'].astype('category')\n",
    "\n",
    "# Plot 1: Balance vs Income, faceted by student, colored by default\n",
    "sns.set(style=\"whitegrid\")\n",
    "g = sns.FacetGrid(df, col=\"student\", hue=\"default\", height=5, aspect=1.2)\n",
    "g.map_dataframe(sns.scatterplot, x=\"income\", y=\"balance\", alpha=0.7)\n",
    "g.add_legend()\n",
    "g.set_axis_labels(\"Income\", \"Balance\")\n",
    "g.set_titles(\"Student: {col_name}\")\n",
    "plt.show()\n",
    "\n",
    "# Plot 2: Balance vs Income, faceted by default, colored by student\n",
    "g2 = sns.FacetGrid(df, col=\"default\", hue=\"student\", height=5, aspect=1.2)\n",
    "g2.map_dataframe(sns.scatterplot, x=\"income\", y=\"balance\", alpha=0.7)\n",
    "g2.add_legend()\n",
    "g2.set_axis_labels(\"Income\", \"Balance\")\n",
    "g2.set_titles(\"Default: {col_name}\")\n",
    "plt.show()\n"
   ]
  },
  {
   "cell_type": "markdown",
   "id": "bbcd4b4d",
   "metadata": {},
   "source": [
    "## 3. Split the data into training and test sets (stratified by default)"
   ]
  },
  {
   "cell_type": "code",
   "execution_count": null,
   "id": "ab2fbb00",
   "metadata": {},
   "outputs": [],
   "source": [
    "train_df, test_df = train_test_split(\n",
    "    df,\n",
    "    test_size=0.2,\n",
    "    random_state=42,\n",
    "    stratify=df[\"default\"]\n",
    ")\n"
   ]
  },
  {
   "cell_type": "markdown",
   "id": "382aa9c6",
   "metadata": {},
   "source": [
    "## 4. Fit a logistic regression model\n",
    "We use `student` and `balance` as predictors for `default`."
   ]
  },
  {
   "cell_type": "code",
   "execution_count": null,
   "id": "081f9e27",
   "metadata": {},
   "outputs": [],
   "source": [
    "# Create design matrix and response variable for training set\n",
    "X_train = pd.get_dummies(train_df[['student']], drop_first=True)\n",
    "X_train['balance'] = train_df['balance']\n",
    "X_train = sm.add_constant(X_train).astype(float)\n",
    "y_train = (train_df['default'] == 'Yes').astype(int)\n",
    "\n",
    "# Fit the logistic regression model\n",
    "model = sm.Logit(y_train, X_train).fit()\n",
    "model.summary()\n"
   ]
  },
  {
   "cell_type": "markdown",
   "id": "f558becb",
   "metadata": {},
   "source": [
    "## 5. Assess model fit on test set\n",
    "We produce a normalized confusion matrix and ROC curve."
   ]
  },
  {
   "cell_type": "code",
   "execution_count": null,
   "id": "1ef36dd7",
   "metadata": {},
   "outputs": [],
   "source": [
    "# Prepare test set\n",
    "X_test = pd.get_dummies(test_df[['student']], drop_first=True)\n",
    "X_test['balance'] = test_df['balance']\n",
    "X_test = sm.add_constant(X_test).astype(float)\n",
    "y_test = (test_df['default'] == 'Yes').astype(int)\n",
    "\n",
    "# Predict probabilities and labels\n",
    "y_pred_probs = model.predict(X_test)\n",
    "y_pred_labels = (y_pred_probs >= 0.5).astype(int)\n",
    "\n",
    "# Confusion matrix\n",
    "cm = confusion_matrix(y_test, y_pred_labels)\n",
    "cm_normalized = cm.astype(float) / cm.sum()\n",
    "\n",
    "# Plot confusion matrix\n",
    "fig, ax = plt.subplots(1, 2, figsize=(14, 6))\n",
    "sns.heatmap(cm_normalized, annot=True, fmt=\".2f\", cmap=\"Blues\", ax=ax[0],\n",
    "            xticklabels=[\"No Default\", \"Default\"], yticklabels=[\"No Default\", \"Default\"])\n",
    "ax[0].set_title(\"Normalized Confusion Matrix\")\n",
    "ax[0].set_xlabel(\"Predicted\")\n",
    "ax[0].set_ylabel(\"Actual\")\n",
    "\n",
    "# ROC curve\n",
    "fpr, tpr, thresholds = roc_curve(y_test, y_pred_probs)\n",
    "roc_auc = auc(fpr, tpr)\n",
    "\n",
    "ax[1].plot(fpr, tpr, label=f\"AUC = {roc_auc:.2f}\", linewidth=2)\n",
    "ax[1].plot([0, 1], [0, 1], 'k--', linewidth=1)\n",
    "ax[1].set_xlim([0.0, 1.0])\n",
    "ax[1].set_ylim([0.0, 1.05])\n",
    "ax[1].set_xlabel(\"False Positive Rate\")\n",
    "ax[1].set_ylabel(\"True Positive Rate\")\n",
    "ax[1].set_title(\"ROC Curve\")\n",
    "ax[1].legend(loc=\"lower right\")\n",
    "\n",
    "plt.tight_layout()\n",
    "plt.show()\n"
   ]
  }
 ],
 "metadata": {
  "kernelspec": {
   "display_name": "Python 3",
   "language": "python",
   "name": "python3"
  },
  "language_info": {
   "codemirror_mode": {
    "name": "ipython",
    "version": 3
   },
   "file_extension": ".py",
   "mimetype": "text/x-python",
   "name": "python",
   "nbconvert_exporter": "python",
   "pygments_lexer": "ipython3",
   "version": "3.12.6"
  }
 },
 "nbformat": 4,
 "nbformat_minor": 5
}
