{
 "cells": [
  {
   "cell_type": "markdown",
   "id": "cda00fd7",
   "metadata": {},
   "source": [
    "<img src=\"../assets/ittc_logo_full.png\" height=150>\n",
    "\n",
    "# Lecture 7 Time Series Analysis\n",
    "\n",
    "## In this Practical\n",
    "\n",
    "In this practical you will:\n",
    "\n",
    "1. Execute code chunks to fit a complex SARIMA model to CO2 data\n"
   ]
  },
  {
   "cell_type": "markdown",
   "id": "8fce4d16",
   "metadata": {},
   "source": [
    "# Step 1: Load and Inspect the CO₂ Data\n",
    "This step loads the weekly atmospheric CO₂ data from the `statsmodels` package, fills missing values, and prepares the dataset for time series analysis."
   ]
  },
  {
   "cell_type": "code",
   "execution_count": null,
   "id": "e43532d0",
   "metadata": {},
   "outputs": [],
   "source": [
    "import pandas as pd\n",
    "import numpy as np\n",
    "import matplotlib.pyplot as plt\n",
    "import seaborn as sns\n",
    "from statsmodels.tsa.seasonal import seasonal_decompose\n",
    "from statsmodels.tsa.stattools import adfuller\n",
    "from statsmodels.graphics.tsaplots import plot_acf, plot_pacf\n",
    "from statsmodels.tsa.statespace.sarimax import SARIMAX\n",
    "from statsmodels.datasets import co2\n",
    "import warnings\n",
    "warnings.filterwarnings(\"ignore\")\n",
    "\n",
    "# Load co2 dataset from statsmodels (keep original column name and do not fill NAs)\n",
    "data = co2.load_pandas().data\n",
    "# data = data.asfreq('W')\n",
    "data.head()\n"
   ]
  },
  {
   "cell_type": "code",
   "execution_count": null,
   "id": "06b06e52",
   "metadata": {},
   "outputs": [],
   "source": [
    "# Interpolate missing values using quadratic interpolation\n",
    "data['co2'] = data['co2'].interpolate(method='quadratic')\n",
    "data.head()\n"
   ]
  },
  {
   "cell_type": "markdown",
   "id": "e0f85ebf",
   "metadata": {},
   "source": [
    "# Step 2: Visualize the Raw CO₂ Data\n",
    "Plot the full CO₂ time series to explore patterns, trends, and any noticeable anomalies."
   ]
  },
  {
   "cell_type": "code",
   "execution_count": null,
   "id": "6c274f3b",
   "metadata": {},
   "outputs": [],
   "source": [
    "plt.figure(figsize=(12, 6))\n",
    "plt.plot(data.index, data['co2'], label='co2')\n",
    "plt.title(\"Atmospheric co2 Concentration Over Time\")\n",
    "plt.xlabel(\"Date\")\n",
    "plt.ylabel(\"co2 (ppm)\")\n",
    "plt.grid(True)\n",
    "plt.tight_layout()\n",
    "plt.show()\n"
   ]
  },
  {
   "cell_type": "markdown",
   "id": "2b329578",
   "metadata": {},
   "source": [
    "# Step 3: Add a Moving Average Trend Smoother\n",
    "Overlay a 52-week moving average on the raw CO₂ data to better visualize the long-term trend."
   ]
  },
  {
   "cell_type": "code",
   "execution_count": null,
   "id": "54a7ecf2",
   "metadata": {},
   "outputs": [],
   "source": [
    "plt.figure(figsize=(12, 6))\n",
    "sns.lineplot(x=data.index, y=data['co2'], label='co2')\n",
    "sns.lineplot(x=data.index, y=data['co2'].rolling(window=52).mean(), label='52-week Moving Average')\n",
    "plt.title(\"co2 with Trend Smoother\")\n",
    "plt.xlabel(\"Date\")\n",
    "plt.ylabel(\"co2 (ppm)\")\n",
    "plt.legend()\n",
    "plt.tight_layout()\n",
    "plt.show()\n"
   ]
  },
  {
   "cell_type": "markdown",
   "id": "de31b892",
   "metadata": {},
   "source": [
    "# Step 4: Decompose the Time Series\n",
    "Use seasonal decomposition to break the CO₂ series into trend, seasonal, and residual components. This helps assess both trend and periodicity."
   ]
  },
  {
   "cell_type": "code",
   "execution_count": null,
   "id": "b6021aa4",
   "metadata": {},
   "outputs": [],
   "source": [
    "# Seasonal decomposition using interpolated series\n",
    "co2_clean = data['co2'].loc['1990':]\n",
    "decomposition = seasonal_decompose(co2_clean, model='additive', period=52)\n",
    "decomposition.plot()\n",
    "plt.tight_layout()\n",
    "plt.show()\n"
   ]
  },
  {
   "cell_type": "markdown",
   "id": "541d00b5",
   "metadata": {},
   "source": [
    "# Step 5: Plot the ACF and PACF\n",
    "Generate the autocorrelation function (ACF) and partial autocorrelation function (PACF) plots to help identify suitable parameters for the ARIMA model."
   ]
  },
  {
   "cell_type": "code",
   "execution_count": null,
   "id": "b11a7a1b",
   "metadata": {},
   "outputs": [],
   "source": [
    "# Use interpolated and differenced series for ACF/PACF\n",
    "diff_co2 = data['co2'].loc['1990':].diff().dropna()\n",
    "\n",
    "plot_acf(diff_co2, lags=40)\n",
    "plt.title(\"ACF of Differenced CO₂\")\n",
    "plt.tight_layout()\n",
    "plt.show()\n",
    "\n",
    "plot_pacf(diff_co2, lags=40)\n",
    "plt.title(\"PACF of Differenced CO₂\")\n",
    "plt.tight_layout()\n",
    "plt.show()\n"
   ]
  },
  {
   "cell_type": "markdown",
   "id": "fb8d7f8a",
   "metadata": {},
   "source": [
    "# Step 6: Fit a seasonal ARIMA model to the data"
   ]
  },
  {
   "cell_type": "code",
   "execution_count": null,
   "id": "2ccc9662",
   "metadata": {},
   "outputs": [],
   "source": [
    "# Fit SARIMA model on interpolated data\n",
    "co2_series = data['co2'].loc['1990':]\n",
    "\n",
    "seasonal_model = SARIMAX(co2_series, order=(0, 1, 1), seasonal_order=(0, 1, 1, 52))\n",
    "seasonal_result = seasonal_model.fit()\n"
   ]
  },
  {
   "cell_type": "code",
   "execution_count": null,
   "id": "f6e3e7ad",
   "metadata": {},
   "outputs": [],
   "source": [
    "seasonal_result.summary()\n"
   ]
  },
  {
   "cell_type": "markdown",
   "id": "1b54dce8",
   "metadata": {},
   "source": [
    "# Step 7: Forecast the Next Two Years\n",
    "Use the SARIMA model to forecast CO₂ levels for the next 104 weeks, showing a 90% prediction interval."
   ]
  },
  {
   "cell_type": "code",
   "execution_count": null,
   "id": "742d4e95",
   "metadata": {},
   "outputs": [],
   "source": [
    "n_steps = 104  # 2 years of weekly data\n",
    "forecast_result = seasonal_result.get_forecast(steps=n_steps)\n",
    "forecast_mean = forecast_result.predicted_mean\n",
    "forecast_ci = forecast_result.conf_int(alpha=0.10)\n",
    "\n",
    "# Create forecast dates\n",
    "last_date = co2_series.index[-1]\n",
    "forecast_dates = pd.date_range(start=last_date + pd.Timedelta(weeks=1), periods=n_steps, freq='W')\n",
    "\n",
    "# Plot forecast\n",
    "plt.figure(figsize=(12, 6))\n",
    "plt.plot(co2_series.index, co2_series, label='Original')\n",
    "plt.plot(forecast_dates, forecast_mean, label='Forecast', linestyle='--')\n",
    "plt.fill_between(forecast_dates, forecast_ci.iloc[:, 0], forecast_ci.iloc[:, 1],\n",
    "                 color='gray', alpha=0.3, label='90% Prediction Interval')\n",
    "plt.title(\"Forecast of CO₂ for Next 2 Years (SARIMA)\")\n",
    "plt.xlabel(\"Date\")\n",
    "plt.ylabel(\"CO₂ (ppm)\")\n",
    "plt.legend()\n",
    "plt.grid(True)\n",
    "plt.tight_layout()\n",
    "plt.show()\n"
   ]
  }
 ],
 "metadata": {
  "kernelspec": {
   "display_name": "Python 3",
   "language": "python",
   "name": "python3"
  },
  "language_info": {
   "codemirror_mode": {
    "name": "ipython",
    "version": 3
   },
   "file_extension": ".py",
   "mimetype": "text/x-python",
   "name": "python",
   "nbconvert_exporter": "python",
   "pygments_lexer": "ipython3",
   "version": "3.12.6"
  }
 },
 "nbformat": 4,
 "nbformat_minor": 5
}
