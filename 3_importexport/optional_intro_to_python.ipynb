{
 "cells": [
  {
   "cell_type": "markdown",
   "id": "76bdd470",
   "metadata": {},
   "source": [
    "<img src=\"../assets/ittc_logo_full.png\" height=150>\n",
    "\n",
    "# Data Science for Reliable Engineers (DSfRE) Workshop - Episode 1\n",
    "\n",
    "\n",
    "This episode is partially adapted from the software carpentries [Programming with Python](https://swcarpentry.github.io/python-novice-inflammation/index.html) lesson, [CC BY 4.0](https://creativecommons.org/licenses/by/4.0/)\n",
    "\n",
    "❓ Questions and Objectives\n",
    "What should you be able to answer by the end of this episode:\n",
    "### Questions:\n",
    "- Why use Python?\n",
    "- What basic data types can I work with in Python?\n",
    "- How can I create a new variable in Python?\n",
    "- How do I use a function?\n",
    "- Can I change the value associated with a variable after I create it?\n"
   ]
  },
  {
   "cell_type": "markdown",
   "id": "3abab8cf",
   "metadata": {},
   "source": [
    "# Setup\n",
    "Before we start, we'll need to make sure all package are installed. Run the below command, and it should do everything"
   ]
  },
  {
   "cell_type": "code",
   "execution_count": null,
   "id": "38cf4ea4",
   "metadata": {},
   "outputs": [],
   "source": [
    "%pip install -r ../requirements_seeq.txt"
   ]
  },
  {
   "cell_type": "markdown",
   "id": "da90f11a",
   "metadata": {},
   "source": [
    "# Variables"
   ]
  },
  {
   "cell_type": "code",
   "execution_count": null,
   "id": "77c23597",
   "metadata": {},
   "outputs": [],
   "source": [
    "# Creating variables"
   ]
  },
  {
   "cell_type": "code",
   "execution_count": null,
   "id": "86700b3c",
   "metadata": {},
   "outputs": [],
   "source": [
    "# Addition"
   ]
  },
  {
   "cell_type": "code",
   "execution_count": null,
   "id": "58b5c2af",
   "metadata": {},
   "outputs": [],
   "source": [
    "# Power"
   ]
  },
  {
   "cell_type": "code",
   "execution_count": null,
   "id": "d0b4377d",
   "metadata": {},
   "outputs": [],
   "source": [
    "# Modulo"
   ]
  },
  {
   "cell_type": "code",
   "execution_count": null,
   "id": "08692944",
   "metadata": {},
   "outputs": [],
   "source": [
    "# re-assigning values to variables"
   ]
  },
  {
   "cell_type": "markdown",
   "id": "00db6eda",
   "metadata": {},
   "source": [
    "## Types of Data\n",
    "\n",
    "Python knows various types of data. Some examples are:\n",
    "- integer numbers\n",
    "- floating point numbers, \n",
    "- strings\n",
    "- lists and dictionaries\n",
    "- and more!\n"
   ]
  },
  {
   "cell_type": "code",
   "execution_count": null,
   "id": "a8f8d81a",
   "metadata": {},
   "outputs": [],
   "source": [
    "# Example of a float"
   ]
  },
  {
   "cell_type": "code",
   "execution_count": null,
   "id": "273802e0",
   "metadata": {},
   "outputs": [],
   "source": [
    "# Example of a string"
   ]
  },
  {
   "cell_type": "code",
   "execution_count": null,
   "id": "da094685",
   "metadata": {},
   "outputs": [],
   "source": [
    "# Creating combinations of data with a list"
   ]
  },
  {
   "cell_type": "code",
   "execution_count": null,
   "id": "8a31ca48",
   "metadata": {},
   "outputs": [],
   "source": [
    "# List entries can contain anything. Even lists!"
   ]
  },
  {
   "cell_type": "code",
   "execution_count": null,
   "id": "0679b2b2",
   "metadata": {},
   "outputs": [],
   "source": [
    "# Creating pairs of data with a dictionary\n",
    "# {key: value}"
   ]
  },
  {
   "cell_type": "code",
   "execution_count": null,
   "id": "08f92b52",
   "metadata": {},
   "outputs": [],
   "source": [
    "# Dictionary keys have to be 'hashable' (no lists),\n",
    "# Dictionary values can be anything, like lists or dictionaries!\n",
    "# Make some funky dictionaries:"
   ]
  },
  {
   "cell_type": "markdown",
   "id": "54cdc6de",
   "metadata": {},
   "source": [
    "#### Using Variables in Python"
   ]
  },
  {
   "cell_type": "markdown",
   "id": "ab40de34",
   "metadata": {},
   "source": [
    "The best way to create strings with other data is by using 'f strings' (format strings)"
   ]
  },
  {
   "cell_type": "code",
   "execution_count": null,
   "id": "c8e36b5d",
   "metadata": {},
   "outputs": [],
   "source": [
    "# f-strings"
   ]
  },
  {
   "cell_type": "code",
   "execution_count": null,
   "id": "ef21b42b",
   "metadata": {},
   "outputs": [],
   "source": []
  },
  {
   "cell_type": "markdown",
   "id": "05acca77",
   "metadata": {},
   "source": [
    "## Indexing\n",
    "Lists are built into the language so we do not have to load a library to use them. We create a list by putting values inside square brackets `[]` and separating the values with commas.\n",
    "\n",
    "We can access elements of a list using indices - numbered positions of elements in the list. These positions are numbered starting at 0, so the first element has an index of `0`."
   ]
  },
  {
   "cell_type": "code",
   "execution_count": null,
   "id": "ce275929",
   "metadata": {},
   "outputs": [],
   "source": [
    "a_list = [3, 4, 5]\n",
    "a_list[0]"
   ]
  },
  {
   "cell_type": "markdown",
   "id": "a91fc444",
   "metadata": {},
   "source": [
    "We can use negative numbers as indices in Python. When we do so, the index -1 gives us the last element in the list, -2 the second to last, and so on. Because of this, odds[3] and odds[-1] point to the same element here."
   ]
  },
  {
   "cell_type": "code",
   "execution_count": null,
   "id": "32433388",
   "metadata": {},
   "outputs": [],
   "source": [
    "a_list[-1]"
   ]
  },
  {
   "cell_type": "markdown",
   "id": "a69ac5e4",
   "metadata": {},
   "source": [
    "### Slicing\n",
    "\n",
    "We can also select multiple values from a list at once in an operation known as \"slicing\". To do this, we use a semi-colon between values"
   ]
  },
  {
   "cell_type": "code",
   "execution_count": null,
   "id": "674bae91",
   "metadata": {},
   "outputs": [],
   "source": [
    "grades = [88, 72, 93, 94]\n",
    "grades[2]"
   ]
  },
  {
   "cell_type": "code",
   "execution_count": null,
   "id": "92eb2316",
   "metadata": {},
   "outputs": [],
   "source": [
    "grades[1:3]"
   ]
  },
  {
   "cell_type": "markdown",
   "id": "9f8d55bc",
   "metadata": {},
   "source": [
    "❓ Question: Was this what you expected?\n",
    "\n",
    "When <u>indexing</u> in python, the number refers to the elements of the list starting from 0:\n",
    "\n",
    "<img src=\"data/slicing-indexing.png\" height=150>\n",
    "\n",
    "But when <u>slicing</u>, these numbers are the space between the elements of the list:\n",
    "\n",
    "<img src=\"data/slicing-slicing.png\" height=150>"
   ]
  },
  {
   "cell_type": "code",
   "execution_count": null,
   "id": "cbcf718a",
   "metadata": {},
   "outputs": [],
   "source": []
  },
  {
   "cell_type": "code",
   "execution_count": null,
   "id": "2824470c",
   "metadata": {},
   "outputs": [],
   "source": [
    "# Make a new list with 10 entries"
   ]
  },
  {
   "cell_type": "code",
   "execution_count": null,
   "id": "dc5e0e27",
   "metadata": {},
   "outputs": [],
   "source": [
    "# Slice it! Get the entries from 4 until the end"
   ]
  },
  {
   "cell_type": "markdown",
   "id": "c22ab18e",
   "metadata": {},
   "source": [
    "## Nested Lists\n",
    "Since a list can contain any Python variable, it can even contain other lists.\n",
    "\n",
    "For example, you could represent the products on the shelves of a small grocery store as a nested list called veg:\n",
    "\n",
    "\n",
    "<img src=\"data/03_groceries_veg.png\">\n",
    "\n",
    "To store the contents, we'd write it this way:"
   ]
  },
  {
   "cell_type": "code",
   "execution_count": null,
   "id": "ee0e0626",
   "metadata": {},
   "outputs": [],
   "source": [
    "veg = [\n",
    "    [\"lettuce\", \"lettuce\", \"peppers\", \"zucchini\"],\n",
    "    [\"lettuce\", \"lettuce\", \"peppers\", \"zucchini\"],\n",
    "    [\"lettuce\", \"cilantro\", \"peppers\", \"zucchini\"],\n",
    "]"
   ]
  },
  {
   "cell_type": "markdown",
   "id": "8ec25778",
   "metadata": {},
   "source": [
    "Here are some visual examples of how indexing a list of lists veg works. First, you can reference each row on the shelf as a separate list. For example, veg[2] represents the bottom row, which is a list of the baskets in that row.\n",
    "\n",
    "<img src=\"data/03_groceries_veg0.png\">\n",
    "\n",
    "\n",
    "\n",
    "Index operations using the image would work like this:\n"
   ]
  },
  {
   "cell_type": "code",
   "execution_count": null,
   "id": "02013e44",
   "metadata": {},
   "outputs": [],
   "source": [
    "# Accessing the first element of the list"
   ]
  },
  {
   "cell_type": "code",
   "execution_count": null,
   "id": "def7602d",
   "metadata": {},
   "outputs": [],
   "source": [
    "# Accessing the second element of the list"
   ]
  },
  {
   "cell_type": "code",
   "execution_count": null,
   "id": "e1df2746",
   "metadata": {},
   "outputs": [],
   "source": [
    "# Accessing the third element of the list"
   ]
  },
  {
   "cell_type": "markdown",
   "id": "9f47e50c",
   "metadata": {},
   "source": [
    "To reference a specific basket on a specific shelf, you use two indexes. The first index represents the row (from top to bottom) and the second index represents the specific basket (from left to right).\n",
    "\n",
    "\n",
    "<img src=\"data/03_groceries_veg00.png\">\n",
    "\n"
   ]
  },
  {
   "cell_type": "code",
   "execution_count": null,
   "id": "a6cbc505",
   "metadata": {},
   "outputs": [],
   "source": [
    "# Accessing the first element of the first nested list"
   ]
  },
  {
   "cell_type": "code",
   "execution_count": null,
   "id": "65889d11",
   "metadata": {},
   "outputs": [],
   "source": [
    "# Accessing the third element of the second nested list"
   ]
  },
  {
   "cell_type": "markdown",
   "id": "0b874287",
   "metadata": {},
   "source": [
    "### Modifying Python Lists\n",
    "\n",
    "There are many ways to change the contents of a lists besides assigning new values to individual elements:"
   ]
  },
  {
   "cell_type": "code",
   "execution_count": null,
   "id": "debb5fcd",
   "metadata": {},
   "outputs": [],
   "source": [
    "# Appending to a list\n",
    "veg[0][0] = \"hamburgers\"\n",
    "veg"
   ]
  },
  {
   "cell_type": "code",
   "execution_count": null,
   "id": "a30a3fb2",
   "metadata": {},
   "outputs": [],
   "source": [
    "# Removing elements from a list"
   ]
  },
  {
   "cell_type": "code",
   "execution_count": null,
   "id": "783e9206",
   "metadata": {},
   "outputs": [],
   "source": [
    "# Reversing a list"
   ]
  },
  {
   "cell_type": "markdown",
   "id": "5f5ee129",
   "metadata": {},
   "source": [
    "# Slicing other objects\n",
    "Just like lists, any object that can be 'iterated' over, including a `string`, can be <u>indexed</u> and <u>sliced</u>"
   ]
  },
  {
   "cell_type": "code",
   "execution_count": null,
   "id": "aa61100a",
   "metadata": {},
   "outputs": [],
   "source": [
    "food = \"green curry\"\n",
    "food[4:9]"
   ]
  },
  {
   "cell_type": "code",
   "execution_count": null,
   "id": "0fab9f70",
   "metadata": {},
   "outputs": [],
   "source": [
    "food[3]"
   ]
  },
  {
   "cell_type": "markdown",
   "id": "1e24d8a0",
   "metadata": {},
   "source": [
    "However note what happens when we try to set a value"
   ]
  },
  {
   "cell_type": "code",
   "execution_count": null,
   "id": "2078a4d5",
   "metadata": {},
   "outputs": [],
   "source": [
    "food[0] = \"a\""
   ]
  },
  {
   "cell_type": "markdown",
   "id": "6c249e8f",
   "metadata": {},
   "source": [
    "you should have gotten an error, \n",
    "```python\n",
    "TypeError: 'str' object does not support item assignment\n",
    "```\n",
    "This is expected. While a bit beyond the scope of this introduction, simply know that certain python objects are `mutable` or `immutable`:\n",
    "- `Mutable`\n",
    "    - think \"able to be mutated\", or \"able to be changed\"\n",
    "    - Includes lists, numpy arrays, and pandas dataframes\n",
    "    - Includes dictionary **Values**, but not **keys**\n",
    "    - Means you can swap values in and out without re-assigning a variable\n",
    "- `Immutable`\n",
    "    - think \"NOT able to be mutated\", or unable to be changed\"\n",
    "    - Includes strings `\"likethis\"`\", tuples `()`, sets, and some other objects\n",
    "    - Means you cant change the underlying value of something, you'll need to re-assign the variable if you want it to change\n",
    "\n",
    "There are important reasons for the difference, but for now just know that the difference exists"
   ]
  },
  {
   "cell_type": "markdown",
   "id": "6ed44dcc",
   "metadata": {},
   "source": [
    "## Built in Python Functions\n"
   ]
  },
  {
   "cell_type": "markdown",
   "id": "6b3071e0",
   "metadata": {},
   "source": [
    "To carry out common tasks with data and variables in Python, the language provides us with several built-in functions.\n",
    "\n",
    "To display information to the screen, we use the `print` function:"
   ]
  },
  {
   "cell_type": "code",
   "execution_count": null,
   "id": "54e59e8b",
   "metadata": {},
   "outputs": [],
   "source": [
    "# Printing variables"
   ]
  },
  {
   "cell_type": "markdown",
   "id": "a2e2f77d",
   "metadata": {},
   "source": [
    "When we want to make use of a function, referred to as calling the function, we follow its name by parentheses ().\n",
    "\n",
    "❗The parentheses are important: if you leave them off, <b>the function doesn’t actually run!</b> Sometimes you will include values or variables inside the parentheses for the function to use.\n",
    "\n",
    "In the case of print, we use the parentheses to tell the function what value we want to display. We will learn more about how functions work and how to create our own in later episodes.\n",
    "\n",
    "We can display multiple things at once using only one print call:\n"
   ]
  },
  {
   "cell_type": "code",
   "execution_count": null,
   "id": "1bdac98d",
   "metadata": {},
   "outputs": [],
   "source": [
    "# Printing multiple variables"
   ]
  },
  {
   "cell_type": "markdown",
   "id": "d79f75fd",
   "metadata": {},
   "source": [
    "We can also call a function inside another function call.\n",
    "\n",
    "For example, Python has a built-in function called type that tells you a value's data type:\n"
   ]
  },
  {
   "cell_type": "code",
   "execution_count": null,
   "id": "24426de2",
   "metadata": {},
   "outputs": [],
   "source": []
  },
  {
   "cell_type": "markdown",
   "id": "5dc50c47",
   "metadata": {},
   "source": [
    "\n",
    "\n",
    "Moreover, we can do arithmetic with variables right inside the print function:\n"
   ]
  },
  {
   "cell_type": "code",
   "execution_count": null,
   "id": "f6280d38",
   "metadata": {},
   "outputs": [],
   "source": []
  },
  {
   "cell_type": "markdown",
   "id": "7eafa945",
   "metadata": {},
   "source": [
    "\n",
    "\n",
    "The above command, however, did not change the value of weight_kg. Check:\n"
   ]
  },
  {
   "cell_type": "code",
   "execution_count": null,
   "id": "3129a8fa",
   "metadata": {},
   "outputs": [],
   "source": []
  },
  {
   "cell_type": "markdown",
   "id": "3b017968",
   "metadata": {},
   "source": [
    "To change the value of the weight_kg variable, we <b><u>have</u></b> to assign weight_kg a new value using the equals = sign:\n"
   ]
  },
  {
   "cell_type": "code",
   "execution_count": null,
   "id": "7cf210fa",
   "metadata": {},
   "outputs": [],
   "source": []
  },
  {
   "cell_type": "markdown",
   "id": "2f11f97a",
   "metadata": {},
   "source": [
    "# Repeating actions with Loops\n"
   ]
  },
  {
   "cell_type": "code",
   "execution_count": null,
   "id": "83ecf993",
   "metadata": {},
   "outputs": [],
   "source": [
    "# Instantiate a list of odd numbers"
   ]
  },
  {
   "cell_type": "markdown",
   "id": "5f7cb795",
   "metadata": {},
   "source": [
    "\n",
    "\n",
    "In Python, a list is basically an ordered collection of elements, and every element has a unique number associated with it — its index. This means that we can access elements in a list using their indices.\n",
    "\n",
    "For example, we can get the first number in the list `odds`, by using `odds[0]`. One way to print each number is to use four `print` statements:\n"
   ]
  },
  {
   "cell_type": "code",
   "execution_count": null,
   "id": "e16cf82a",
   "metadata": {},
   "outputs": [],
   "source": [
    "# Print the list elements individually, with some additional text telling you whats being printed"
   ]
  },
  {
   "cell_type": "markdown",
   "id": "6b104fd8",
   "metadata": {},
   "source": [
    "\n",
    "\n",
    "This is a bad approach for three reasons:\n",
    "\n",
    "1. **Not scalable**. Imagine you need to print a list that has hundreds of elements. It might be easier to type them in manually.\n",
    "\n",
    "2. **Difficult to maintain**. If we want to decorate each printed element with an asterisk or any other character, we would have to change four lines of code. While this might not be a problem for small lists, it would definitely be a problem for longer ones.\n",
    "\n",
    "3. **Fragile**. If we use it with a list that has more elements than what we initially envisioned, it will only display part of the list’s elements. A shorter list, on the other hand, will cause an error because it will be trying to display elements of the list that do not exist.\n",
    "\n",
    "\n",
    "\n",
    "\n",
    "A better approach would be to use a `for` <u>**loop**</u>.\n",
    "\n",
    "Loops allow us to repeat a workflow (or series of actions) a given number of times or while some condition is true. They lighten our work load by performing repeated tasks without our direct involvement and make it less likely that we’ll introduce errors by making mistakes while processing each file by hand.\n",
    "\n"
   ]
  },
  {
   "cell_type": "code",
   "execution_count": null,
   "id": "f19d6d99",
   "metadata": {},
   "outputs": [],
   "source": [
    "# Print the list elements individually, with some additional text telling you whats being printed"
   ]
  },
  {
   "cell_type": "code",
   "execution_count": null,
   "id": "91c1c144",
   "metadata": {},
   "outputs": [],
   "source": [
    "# Another example of a for loop"
   ]
  },
  {
   "cell_type": "markdown",
   "id": "527fbcea",
   "metadata": {},
   "source": [
    "![odd number loop](data / 03 - loops_image_num.png)"
   ]
  },
  {
   "cell_type": "code",
   "execution_count": null,
   "id": "985e9498",
   "metadata": {},
   "outputs": [],
   "source": []
  },
  {
   "cell_type": "code",
   "execution_count": null,
   "id": "2fa5bce6",
   "metadata": {},
   "outputs": [],
   "source": []
  },
  {
   "cell_type": "code",
   "execution_count": null,
   "id": "66f4e72e",
   "metadata": {},
   "outputs": [],
   "source": []
  },
  {
   "cell_type": "markdown",
   "id": "8aa30313",
   "metadata": {},
   "source": [
    "# Creating Functions\n",
    "What if we want to convert some of our data, like taking a USA temperature in Fahrenheit ($T_F$) and converting it to Celsius ($T_C$), or vice-versa. The forumlas for doing so are:\n",
    "$$\n",
    "T_C = (T_F - 32) \\left(\\dfrac{5}{9}\\right) \\\\\n",
    "T_F = T_C\\left(\\dfrac{9}{5}\\right) + 32\n",
    "$$\n",
    "We could write something like this for converting a single number:"
   ]
  },
  {
   "cell_type": "code",
   "execution_count": null,
   "id": "43f93f3b",
   "metadata": {},
   "outputs": [],
   "source": [
    "# Convert Fahrenheit to Celsius with one line"
   ]
  },
  {
   "cell_type": "markdown",
   "id": "59533d94",
   "metadata": {},
   "source": [
    "and for a second number we could just copy the line and rename the variables."
   ]
  },
  {
   "cell_type": "code",
   "execution_count": null,
   "id": "0bb5aa2e",
   "metadata": {},
   "outputs": [],
   "source": []
  },
  {
   "cell_type": "markdown",
   "id": "7e79b2de",
   "metadata": {},
   "source": [
    "But we would be in trouble as soon as we had to do this more than a couple times.\n",
    "\n",
    "Cutting and pasting it is going to make our code get very long and very repetitive, very quickly. We’d like a way to package our code so that it is easier to reuse, a shorthand way of re-executing longer pieces of code. In Python we can use ‘functions’!\n",
    "\n",
    "Let’s start by defining a function fahr_to_celsius that converts temperatures from Fahrenheit to Celsius:\n"
   ]
  },
  {
   "cell_type": "code",
   "execution_count": null,
   "id": "b6009d93",
   "metadata": {},
   "outputs": [],
   "source": [
    "# Define a function to convert Fahrenheit to Celsius\n",
    "def fahr_to_celsius(temp_f):\n",
    "    return (temp_f - 32) * (5 / 9)"
   ]
  },
  {
   "cell_type": "markdown",
   "id": "16235a80",
   "metadata": {},
   "source": [
    "![Function example](data/python-function.png)"
   ]
  },
  {
   "cell_type": "code",
   "execution_count": null,
   "id": "b51bbabe",
   "metadata": {},
   "outputs": [],
   "source": [
    "# Define a function to convert celsius to fahrenheit"
   ]
  },
  {
   "cell_type": "markdown",
   "id": "e229f6e2",
   "metadata": {},
   "source": [
    "\n",
    "\n",
    "The function definition opens with the keyword def followed by the name of the function (fahr_to_celsius) and a parenthesized list of parameter names (temp).\n",
    "\n",
    "The body of the function — the statements that are executed when it runs — is indented below the definition line. The body concludes with a return keyword followed by the return value.\n",
    "\n",
    "When we call the function, the values we pass to it are assigned to those variables so that we can use them inside the function. Inside the function, we use a return statement to send a result back to whoever asked for it.\n",
    "\n",
    "Let’s try running our function.\n"
   ]
  },
  {
   "cell_type": "code",
   "execution_count": null,
   "id": "480ee9dd",
   "metadata": {},
   "outputs": [],
   "source": [
    "# Call the fahr_to_celsius function with a value of 32"
   ]
  },
  {
   "cell_type": "code",
   "execution_count": null,
   "id": "f94885ee",
   "metadata": {},
   "outputs": [],
   "source": [
    "# Call the celsius_to_fahr function with a value of 100 (boiling point in F should be 212)"
   ]
  },
  {
   "cell_type": "code",
   "execution_count": null,
   "id": "61c31f71",
   "metadata": {},
   "outputs": [],
   "source": [
    "# Compose the functions. Call fahr_to_celsisus(celsisus_to_fahr(number))"
   ]
  },
  {
   "cell_type": "markdown",
   "id": "0a6e8fca",
   "metadata": {},
   "source": [
    "### Variable Scope\n",
    "In composing our temperature conversion functions, we created variables inside of those functions, temp, temp_c, temp_f, and temp_k. We refer to these variables as local variables because they no longer exist once the function is done executing. If we try to access their values outside of the function, we will encounter an error:"
   ]
  },
  {
   "cell_type": "code",
   "execution_count": null,
   "id": "b12643fd",
   "metadata": {},
   "outputs": [],
   "source": [
    "# Calling a variable that is defined within a function"
   ]
  },
  {
   "cell_type": "markdown",
   "id": "0076d1b2",
   "metadata": {},
   "source": [
    "If you want to reuse the temperature in Kelvin after you have calculated it with fahr_to_kelvin, you can store the result of the function call in a variable:"
   ]
  },
  {
   "cell_type": "code",
   "execution_count": null,
   "id": "5fe6562f",
   "metadata": {},
   "outputs": [],
   "source": [
    "# Assigning the result of the function to a variable"
   ]
  },
  {
   "cell_type": "markdown",
   "id": "bf6e59e7",
   "metadata": {},
   "source": [
    "The variable temp_kelvin, being defined outside any function, is said to be global.\n",
    "\n",
    "Inside a function, one can read the value of such global variables."
   ]
  },
  {
   "cell_type": "code",
   "execution_count": null,
   "id": "ad4db830",
   "metadata": {},
   "outputs": [],
   "source": [
    "# Accessing global variables from within a function"
   ]
  },
  {
   "cell_type": "markdown",
   "id": "cd4e83e0",
   "metadata": {},
   "source": [
    "![scope_description](images / scope.png)"
   ]
  },
  {
   "cell_type": "code",
   "execution_count": null,
   "id": "0d1031c2",
   "metadata": {},
   "outputs": [],
   "source": []
  },
  {
   "cell_type": "code",
   "execution_count": null,
   "metadata": {},
   "outputs": [],
   "source": []
  },
  {
   "cell_type": "markdown",
   "id": "6b441cff",
   "metadata": {},
   "source": [
    "# Bonus - chain functions\n",
    "\n",
    "Create a function to turn Celsius into Kelvin (-273.15)"
   ]
  },
  {
   "cell_type": "code",
   "execution_count": null,
   "id": "1c943879",
   "metadata": {},
   "outputs": [],
   "source": [
    "# C -> K"
   ]
  },
  {
   "cell_type": "code",
   "execution_count": null,
   "id": "54b26f14",
   "metadata": {},
   "outputs": [],
   "source": [
    "# Test it out"
   ]
  },
  {
   "cell_type": "markdown",
   "id": "163d2b7c",
   "metadata": {},
   "source": [
    "now create a function to turn Fahrenheit into Kelvin - but instead of figuring out the formula, just use your existing functions!"
   ]
  },
  {
   "cell_type": "code",
   "execution_count": null,
   "id": "9c4d8eb5",
   "metadata": {},
   "outputs": [],
   "source": [
    "#\n",
    "def fahr_to_kelvin():\n",
    "    return"
   ]
  },
  {
   "cell_type": "code",
   "execution_count": null,
   "id": "4979f08e",
   "metadata": {},
   "outputs": [],
   "source": [
    "# Test it out"
   ]
  },
  {
   "cell_type": "markdown",
   "id": "0e6ebafa",
   "metadata": {},
   "source": []
  },
  {
   "cell_type": "markdown",
   "id": "3d9f50b0",
   "metadata": {},
   "source": [
    "# Writing and importing a script\n",
    "Lets' write a script, and import it!\n",
    "\n",
    "Check out `my_scipt`, already made"
   ]
  },
  {
   "cell_type": "code",
   "execution_count": null,
   "id": "8294729d",
   "metadata": {},
   "outputs": [],
   "source": [
    "from my_script import youngs_modulus, fast_fibonacci"
   ]
  },
  {
   "cell_type": "markdown",
   "id": "899eb77b",
   "metadata": {},
   "source": [
    "### What's with the quotes?\n"
   ]
  },
  {
   "cell_type": "code",
   "execution_count": null,
   "id": "8ca5b983",
   "metadata": {},
   "outputs": [],
   "source": [
    "help(fibonnaci)"
   ]
  },
  {
   "cell_type": "markdown",
   "id": "93484460",
   "metadata": {},
   "source": [
    "# Make your own script, and import it. \n",
    "Here's an example function you can use:\n",
    "```python\n",
    "def factorial(n):\n",
    "    if n == 0:\n",
    "        return 1\n",
    "    else: \n",
    "        return n * factorial(n-1)\n",
    "```\n",
    "- Call the file `example.py`, and ensure it's in the same directory as this notebook.  \n",
    "- Check that it's accurate, and try running it.   \n",
    "- If it fails, try to fix your mistake, restart the kernel and try importing again."
   ]
  },
  {
   "cell_type": "code",
   "execution_count": null,
   "id": "624d314d",
   "metadata": {},
   "outputs": [],
   "source": [
    "from example import factorial\n",
    "\n",
    "factorial(4)"
   ]
  },
  {
   "cell_type": "markdown",
   "id": "251280a0",
   "metadata": {},
   "source": [
    "### Why write scripts?\n",
    "- Let's you re-use code\n",
    "- Helps keep code organised\n",
    "- Allows you to more easily share code functionality with others\n",
    "- Helps ensure repeatability\n",
    "- We'll be using collections of scripts other people have written, known as packages, in the next workshop"
   ]
  },
  {
   "cell_type": "markdown",
   "id": "fb6aaf8a",
   "metadata": {},
   "source": [
    "# 🏆 Challenges\n",
    "## ✏️ 1. Odd summing of a list\n",
    "Write a function called `odd_sum` that takes in a list of integers, and sums only the values that are odd.  \n",
    "You'll need to:\n",
    "- Write a loop that operates over the input\n",
    "- Add a "
   ]
  },
  {
   "cell_type": "code",
   "execution_count": null,
   "id": "2cd271a2",
   "metadata": {},
   "outputs": [],
   "source": [
    "def odd_sum(input_list):\n",
    "    # your code here!\n",
    "    return\n",
    "\n",
    "\n",
    "# Test cases\n",
    "test_1_input = [2, 3, 5, 6]\n",
    "test_1_answer = 8\n",
    "test_1_fn_result = odd_sum(test_1_input)\n",
    "print(f\"Test 1. Test passes: {test_1_fn_result == test_1_answer}\")\n",
    "print(f\"Answer was {test_1_answer}, fn output was {test_1_fn_result}\")\n",
    "\n",
    "test_2_input = [2, 4, 5, 6, 7, 10]\n",
    "test_2_answer = 9\n",
    "test_2_fn_result = odd_sum(test_2_input)\n",
    "print(f\"Test 2. Test passes: {test_2_fn_result == test_2_answer},\")\n",
    "print(f\"Answer was {test_2_answer}, fn output was {test_2_fn_result}\")\n",
    "\n",
    "test_3_input = [2, 3, 5, 6, 7, 89]\n",
    "test_3_answer = 97\n",
    "test_3_fn_result = odd_sum(test_3_input)\n",
    "print(f\"Test 3. Test passes: {test_3_fn_result == test_3_answer}\")\n",
    "print(f\"Answer was {test_3_answer}, fn output was {test_3_fn_result}\")"
   ]
  },
  {
   "cell_type": "markdown",
   "id": "990de851",
   "metadata": {},
   "source": [
    "## ✏️ 1. Odd summing of a list, but different\n",
    "Your manager one day decides they hate the number 7, and love the number 4. Because of this, your function should sum all odd numbers, unless they are exactly 7. It should of course, include 4 in any sums\n",
    "- Copy your above function below, replacing the placeholder function, but keeping the tests\n",
    "- rename it to `sum_with_rules()`\n",
    "- Make it always sum 4\n",
    "- Make it never sum 7\n",
    "\n"
   ]
  },
  {
   "cell_type": "code",
   "execution_count": null,
   "id": "7b96d1a9",
   "metadata": {},
   "outputs": [],
   "source": [
    "def sum_with_rules(input_list):\n",
    "    return\n",
    "\n",
    "\n",
    "# Test cases\n",
    "test_1_input = [2, 3, 5, 6]\n",
    "test_1_answer = 8\n",
    "test_1_fn_result = sum_with_rules(test_1_input)\n",
    "print(f\"Test 1. Test passes: {test_1_fn_result == test_1_answer}\")\n",
    "print(f\"Answer was {test_1_answer}, fn output was {test_1_fn_result}\")\n",
    "\n",
    "test_2_input = [2, 4, 5, 6, 7, 10]\n",
    "test_2_answer = 9\n",
    "test_2_fn_result = sum_with_rules(test_2_input)\n",
    "print(f\"Test 2. Test passes: {test_2_fn_result == test_2_answer},\")\n",
    "print(f\"Answer was {test_2_answer}, fn output was {test_2_fn_result}\")\n",
    "\n",
    "test_3_input = [2, 3, 5, 6, 7, 89]\n",
    "test_3_answer = 97\n",
    "test_3_fn_result = sum_with_rules(test_3_input)\n",
    "print(f\"Test 3. Test passes: {test_3_fn_result == test_3_answer}\")\n",
    "print(f\"Answer was {test_3_answer}, fn output was {test_3_fn_result}\")"
   ]
  },
  {
   "cell_type": "markdown",
   "id": "bb4f9a0d",
   "metadata": {},
   "source": [
    "# Classes and Objects\n",
    "There are many ways to write a program. Some of these, whose terms you may have heard, include:\n",
    "- Procedural\n",
    "- Structured\n",
    "- Functional\n",
    "- Modular\n",
    "- Object Oriented\n",
    "\n",
    "Most popular languages will support several of these ways of programming, but may not support all.\n",
    "\n",
    "In particular, Python supports \"Object-Oriented Programming\" (also known as OOP). This way of programming involves using \"objects\", which bundle <u>**data**</u> and <u>**functionality**</u> together.\n",
    "\n",
    "A class can be thought of as a blueprint for an object, defining what data and methods it supports. \n",
    "\n",
    "While you may not write many classes as a beginner programmer, it is important to know about them as many packages will make use of them. The key concept to know are:\n",
    "\n",
    "#### 1. Attributes\n",
    "- Data that belongs to a class. \n",
    "- Use `object.attribute` to select an objects attribute\n",
    "Below, `lucky_array` gets created as an object. During creation, a set of attributes based on the input are assigned, and can then be accessed\n"
   ]
  },
  {
   "cell_type": "code",
   "execution_count": null,
   "id": "2ed6e417",
   "metadata": {},
   "outputs": [],
   "source": [
    "import numpy as np\n",
    "\n",
    "lucky_list = [7, 777]\n",
    "lucky_array = np.array(lucky_list)\n",
    "lucky_array.shape, lucky_array.ndim"
   ]
  },
  {
   "cell_type": "code",
   "execution_count": null,
   "id": "1e39a0ff",
   "metadata": {},
   "outputs": [],
   "source": [
    "# lucky_numbers gets created as an object, and creates a set of attributes based on the input\n",
    "# These are unique to the object 'lucky_numbers'\n",
    "\n",
    "unlucky_list = [4, 13, 666]\n",
    "unlucky_array = np.array(unlucky_list)\n",
    "unlucky_array.shape"
   ]
  },
  {
   "cell_type": "code",
   "execution_count": null,
   "id": "3c3114b7",
   "metadata": {},
   "outputs": [],
   "source": [
    "# One object can have many attributes\n",
    "unlucky_array.ndim"
   ]
  },
  {
   "cell_type": "markdown",
   "id": "f8c39193",
   "metadata": {},
   "source": [
    "#### 2. Methods\n",
    "- Functions that belong to an object and can use data for that particular object.\n",
    "- must be evaluated by including a set of parenthesis `()`\n",
    "- These functions can operate using the internal attributes (stored data) of that object"
   ]
  },
  {
   "cell_type": "code",
   "execution_count": null,
   "id": "c9949201",
   "metadata": {},
   "outputs": [],
   "source": [
    "lucky_array.sum()"
   ]
  },
  {
   "cell_type": "code",
   "execution_count": null,
   "id": "48f6f212",
   "metadata": {},
   "outputs": [],
   "source": [
    "unlucky_array.sum()"
   ]
  }
 ],
 "metadata": {
  "kernelspec": {
   "display_name": "env",
   "language": "python",
   "name": "python3"
  },
  "language_info": {
   "codemirror_mode": {
    "name": "ipython",
    "version": 3
   },
   "file_extension": ".py",
   "mimetype": "text/x-python",
   "name": "python",
   "nbconvert_exporter": "python",
   "pygments_lexer": "ipython3",
   "version": "3.10.11"
  }
 },
 "nbformat": 4,
 "nbformat_minor": 5
}
