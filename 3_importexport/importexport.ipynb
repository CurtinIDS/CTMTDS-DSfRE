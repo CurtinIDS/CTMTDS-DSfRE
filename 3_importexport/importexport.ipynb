{
 "cells": [
  {
   "cell_type": "markdown",
   "id": "510a28d8",
   "metadata": {},
   "source": [
    "<img src=\"../assets/ittc_logo_full.png\" height=150>\n",
    "\n",
    "# Lecture 3 Practical: Extracting and importing data\n",
    "\n",
    "## In this Practical\n",
    "\n",
    "In this Practical you will:\n",
    "\n",
    "1. Import data from both CSV and Parquet files\n",
    "2. Explore the DataFrames object\n",
    "3. Export data to various formats\n",
    "\n",
    "## 0. Before we being\n",
    "First we'll need to install the packages we'll be using today. Run the cell below by clicking on it, then holding `shift` and pressing `enter` while still holding shift."
   ]
  },
  {
   "cell_type": "code",
   "execution_count": null,
   "id": "37148a9a",
   "metadata": {},
   "outputs": [],
   "source": [
    "%pip install -r ../requirements.txt"
   ]
  },
  {
   "cell_type": "markdown",
   "id": "372639f0",
   "metadata": {},
   "source": [
    "\n",
    "## 1. Module imports\n",
    "\n",
    "The first step in using Pandas (and any Python module) is to import it.\n",
    "\n",
    "Here we import `pandas` and rename is as `pd` to make typing easier."
   ]
  },
  {
   "cell_type": "code",
   "execution_count": null,
   "id": "917252cf",
   "metadata": {},
   "outputs": [],
   "source": [
    "import pandas as pd"
   ]
  },
  {
   "cell_type": "markdown",
   "id": "1e059dc4",
   "metadata": {},
   "source": [
    "## 2. Importing data\n",
    "\n",
    "There are three files that we will import and explore. They are:\n",
    "\n",
    "* **concrete.csv**\n",
    "\n",
    "    This table contains a range of recipes for concrete – including cement, water, aggregate, and age — and the resulting compressive strength. Compressive strength is the \"dependent variable\", and the recipe amounts are the \"independent variables\".\n",
    "\n",
    "* **chemicalmanufacturing.csv**\n",
    "\n",
    "    This table contains the yield (the dependent variable) as a function of a large number of manufacturing inputs and processes (the independent variables)\n",
    "\n",
    "* **backblaze.parquet**\n",
    "\n",
    "    This is public time series data for computer hard drives used by a large cloud provider. For each harddrive, this time series data records its serial number as well as its failure status.\n",
    "\n",
    "We will import them with their _relative_ path. Relative to this notebook, they are located up one folder (`..`) and in the `data` directory. Their paths are:\n",
    "\n",
    "* `../data/concrete.csv`\n",
    "* `../data/chemicalmanufacturing.csv`\n",
    "* `../data/backblaze.parquet`\n",
    "\n",
    "### 2.1 Import\n",
    "\n",
    "Import each of the above files by choosing between the following functions:\n",
    "\n",
    "* `pd.read_csv()` [(documentation)](https://pandas.pydata.org/pandas-docs/stable/reference/api/pandas.read_csv.html) \n",
    "* `pd.read_parquet()` [(documenation)](https://pandas.pydata.org/pandas-docs/stable/reference/api/pandas.read_parquet.html)"
   ]
  },
  {
   "cell_type": "code",
   "execution_count": null,
   "id": "ffedfeae",
   "metadata": {},
   "outputs": [],
   "source": [
    "# Import the concrete CSV file\n",
    "\n",
    "# Set the path to the location of concrete.csv\n",
    "concrete = pd.read_csv(\"../data/concrete.csv\")"
   ]
  },
  {
   "cell_type": "code",
   "execution_count": null,
   "id": "9dcb5610",
   "metadata": {},
   "outputs": [],
   "source": [
    "# Import chemical data\n",
    "# HINT: you might need to use skiprows to fix any errors\n",
    "# chemical = ..."
   ]
  },
  {
   "cell_type": "code",
   "execution_count": null,
   "id": "92bf980d",
   "metadata": {},
   "outputs": [],
   "source": [
    "# backblaze = ..."
   ]
  },
  {
   "cell_type": "markdown",
   "id": "3220c296",
   "metadata": {},
   "source": [
    "### 2.2 Display the table\n",
    "\n",
    "To preview the table you have two options:\n",
    "\n",
    "* Use the function `display()`\n",
    "* Jupyter notebooks will automatically display the final value in a cell\n",
    "\n"
   ]
  },
  {
   "cell_type": "code",
   "execution_count": null,
   "id": "a0995427",
   "metadata": {},
   "outputs": [],
   "source": [
    "# Preview each of the DataFrames using display()\n",
    "display(concrete)"
   ]
  },
  {
   "cell_type": "code",
   "execution_count": null,
   "id": "7be11a8a",
   "metadata": {},
   "outputs": [],
   "source": [
    "# Preview the backblaze DataFrame by setting it as the final value in this cell\n",
    "\n",
    "# Uncomment this line:\n",
    "# backblaze"
   ]
  },
  {
   "cell_type": "markdown",
   "id": "632579f5",
   "metadata": {},
   "source": [
    "## 3. Exploring the DataFrame\n",
    "\n",
    "The following functions are useful for understanding your import DataFrame:\n",
    "\n",
    "* `.columns()` to get the names of each column\n",
    "* `len()` to get the number of rows\n",
    "* `.shape()` to get the (row x columns) tuple\n",
    "* `.info()` to get summary information on each column\n",
    "* `.describe()` to generate an automatic statistical summary of each **numeric** column"
   ]
  },
  {
   "cell_type": "code",
   "execution_count": null,
   "id": "fe5dc0ef",
   "metadata": {},
   "outputs": [],
   "source": [
    "# How many rows does each DataFrame have? Which is the largest?\n",
    "\n",
    "display(len(concrete))\n",
    "\n",
    "# chemical...\n",
    "# backblaze..."
   ]
  },
  {
   "cell_type": "code",
   "execution_count": null,
   "id": "c35aa905",
   "metadata": {},
   "outputs": [],
   "source": [
    "# What are the names of the columns?\n",
    "display(concrete.columns)\n",
    "\n",
    "# chemical...\n",
    "# backblaze..."
   ]
  },
  {
   "cell_type": "code",
   "execution_count": null,
   "id": "936e7897",
   "metadata": {},
   "outputs": [],
   "source": [
    "# How many rows and columns does our table have? What are their data types?\n",
    "# Explore the metadata about this table using the method .info()\n",
    "concrete.info()\n",
    "\n",
    "# chemical...\n",
    "# backblaze..."
   ]
  },
  {
   "cell_type": "code",
   "execution_count": null,
   "id": "2a85270c",
   "metadata": {},
   "outputs": [],
   "source": [
    "# The .describe() method on concrete to get a statistical summary of each column\n",
    "\n",
    "# concrete..."
   ]
  },
  {
   "cell_type": "markdown",
   "id": "cb5cd7cf",
   "metadata": {},
   "source": [
    "## 4. Selecting columns\n",
    "\n",
    "There are multiple ways to select columns from your DataFrame including:\n",
    "\n",
    "* `df[\"ColumnName\"]`\n",
    "* `df.ColumnName` (but only if the column name doesn't have spaces or special characters)\n",
    "* `df.loc[:, \"ColumnName\"]`\n",
    "\n",
    "When a single column is selected, Pandas will return a `Series` object."
   ]
  },
  {
   "cell_type": "code",
   "execution_count": null,
   "id": "b9514030",
   "metadata": {},
   "outputs": [],
   "source": [
    "# Select the Age column from concrete using each of these methods\n",
    "\n",
    "# concrete..."
   ]
  },
  {
   "cell_type": "markdown",
   "id": "ecc23917",
   "metadata": {},
   "source": [
    "Multiple columns can be selected at once which will return a DataFrame that is a subset of the original:\n",
    "\n",
    "* `df[[\"ColumnName1\", \"ColumnName2\"]]`\n",
    "\n",
    "For example, to select both the Age and Cement columns we would use: `concrete[[\"Age\", \"Cement\"]]`"
   ]
  },
  {
   "cell_type": "code",
   "execution_count": null,
   "id": "4fa3e71f",
   "metadata": {},
   "outputs": [],
   "source": [
    "# Select both the Age, Cement and Water columns from the concrete DataFrame\n",
    "\n",
    "# concrete..."
   ]
  },
  {
   "cell_type": "markdown",
   "id": "ff4ab06d",
   "metadata": {},
   "source": [
    "It is possible to perform calculations over a whole column similar to Excel.\n",
    "\n",
    "Methods that will return a single value include:\n",
    "\n",
    "* `.sum()`\n",
    "* `.min()` and `.max()`\n",
    "* `.mean()` and `.median()`\n",
    "\n",
    "There are also methods that will return lists of values:\n",
    "\n",
    "* `unique()` will return every unique value in a column _without_ duplicates\n",
    "* `quantile()` will return a value for every quantile specified"
   ]
  },
  {
   "cell_type": "code",
   "execution_count": null,
   "id": "dccf26c7",
   "metadata": {},
   "outputs": [],
   "source": [
    "# What is the mean and median compressive strength of all of the concrete recipes?\n",
    "\n",
    "display(concrete[\"CompressiveStrength\"].mean())\n",
    "\n",
    "# median: concrete..."
   ]
  },
  {
   "cell_type": "code",
   "execution_count": null,
   "id": "8ada2406",
   "metadata": {},
   "outputs": [],
   "source": [
    "# What are the unique age values in the Age column?\n",
    "concrete[\"Age\"].unique()"
   ]
  },
  {
   "cell_type": "code",
   "execution_count": null,
   "id": "344c1d22",
   "metadata": {},
   "outputs": [],
   "source": [
    "# What are the 25 and 75th quantiles of concrete age?\n",
    "concrete[\"Age\"].quantile([0.25, 0.75])"
   ]
  },
  {
   "cell_type": "code",
   "execution_count": null,
   "id": "d48d4b02",
   "metadata": {},
   "outputs": [],
   "source": [
    "# What is the 25th and 75th quantile of the concrete Compressive Strength?\n",
    "\n",
    "# concrete..."
   ]
  },
  {
   "cell_type": "markdown",
   "id": "42787649",
   "metadata": {},
   "source": [
    "## 5. Indexing into your DataFrame\n",
    "\n",
    "### 5.1 Accessing rows\n",
    "\n",
    "You can index individual rows using the method `.iloc(rownumber)` and ranges using `.iloc(start:end)`:\n",
    "\n",
    "* e.g. `concrete.iloc[50]` or `concrete.iloc[30:70]`\n",
    "\n",
    "You can select columns by name:\n",
    "\n",
    "* Single columns: e.g. `concrete[\"FlyAsh\"]`\n",
    "* Multiple columns: e.g. `concrete[[\"FlyAsh\", \"FineAggregate\", \"Water\"]]`\n",
    "\n",
    "For advanced help, see the documentation [here](https://pandas.pydata.org/pandas-docs/stable/user_guide/indexing.html)."
   ]
  },
  {
   "cell_type": "code",
   "execution_count": null,
   "id": "66d03eed",
   "metadata": {},
   "outputs": [],
   "source": [
    "# Print row 50\n",
    "concrete.iloc[50]"
   ]
  },
  {
   "cell_type": "code",
   "execution_count": null,
   "id": "4ba909ec",
   "metadata": {},
   "outputs": [],
   "source": [
    "# Print rows 100-150\n",
    "display(concrete.iloc[50:150])"
   ]
  },
  {
   "cell_type": "markdown",
   "id": "ffcc0472",
   "metadata": {},
   "source": [
    "### 5.2 Accessing cells\n",
    "\n",
    "Individual cells are accessed by specifying the row followed by the column.\n",
    "\n",
    "Recall that we have two methods for indexing: `iloc()` is integer based (starting at 0) and `loc()` uses the row and column labels directly.\n",
    "\n",
    "* `concrete.iloc[50, 7]`\n",
    "* `concrete.loc[50, \"Age\"]`"
   ]
  },
  {
   "cell_type": "code",
   "execution_count": null,
   "id": "a2d50445",
   "metadata": {},
   "outputs": [],
   "source": [
    "# Get the value from the 47th row of the Age column using both methods\n",
    "\n",
    "# concrete..."
   ]
  },
  {
   "cell_type": "markdown",
   "id": "cfb0a71c",
   "metadata": {},
   "source": [
    "We can mix slices of rows and columns:"
   ]
  },
  {
   "cell_type": "code",
   "execution_count": null,
   "id": "8d512be6",
   "metadata": {},
   "outputs": [],
   "source": [
    "# Print a subset: rows 50-70 of just two columns\n",
    "concrete.loc[50:70, [\"Cement\", \"FlyAsh\"]]\n",
    "\n",
    "# Or the same thing but with a different style: which do you prefer?\n",
    "concrete[[\"Cement\", \"FlyAsh\"]].iloc[50:70]"
   ]
  },
  {
   "cell_type": "markdown",
   "id": "882bbcc6",
   "metadata": {},
   "source": [
    "### 5.3 Modifying the DataFrame\n",
    "\n",
    "We can modify both individual cells as well as full slices in a single command, e.g.\n",
    "\n",
    "* Update a single cell: `concrete.loc[50, \"Age\"] = 100`\n",
    "* Bulk update a slice: `concrete.loc[50:70, \"Age\"] += 100`"
   ]
  },
  {
   "cell_type": "code",
   "execution_count": null,
   "id": "f85bcee4",
   "metadata": {},
   "outputs": [],
   "source": [
    "# Add 2 units of time to the Age of each row\n",
    "\n",
    "# concrete.."
   ]
  },
  {
   "cell_type": "markdown",
   "id": "98af5ef9",
   "metadata": {},
   "source": []
  },
  {
   "cell_type": "markdown",
   "id": "e2f58bfb",
   "metadata": {},
   "source": [
    "## 6. Filtering the DataFrame\n",
    "\n",
    "Filter rows using the `.query(\"....\")` method:\n",
    "\n",
    "* e.g. `concrete.query(\"Water > 150 and 400 < Cement < 500\")`"
   ]
  },
  {
   "cell_type": "code",
   "execution_count": null,
   "id": "20a1eef7",
   "metadata": {},
   "outputs": [],
   "source": [
    "concrete.query(\"Water > 150 and 400 < Cement < 500\")"
   ]
  },
  {
   "cell_type": "code",
   "execution_count": null,
   "id": "5b3ca5d4",
   "metadata": {},
   "outputs": [],
   "source": [
    "# Compare the mean CompressiveStrength for mixtures with an age both less and greater than 30\n",
    "\n",
    "# Less than 30\n",
    "meanless30 = concrete.query(\"Age < 30\")[\"CompressiveStrength\"].mean()\n",
    "\n",
    "# Versus greater than 30...\n",
    "# meanplus30 = ...\n",
    "\n",
    "# Which is stronger?"
   ]
  },
  {
   "cell_type": "markdown",
   "id": "7ddbef35",
   "metadata": {},
   "source": [
    "We can also use the \"pure Python\" filter to create a mask, e.g.:\n",
    "\n",
    "```\n",
    "mask = (concrete[\"Water\"] > 150) & (concrete[\"Water\"] < 500)`\n",
    "concrete[mask]\n",
    "```\n",
    "\n",
    "Use this method to filter the `chemical` DateFrame and show only those rows where `ManufacturingProcess38` is 2:"
   ]
  },
  {
   "cell_type": "code",
   "execution_count": null,
   "id": "8a985aa6",
   "metadata": {},
   "outputs": [],
   "source": [
    "# mask = ...\n",
    "# chemical[mask]"
   ]
  },
  {
   "cell_type": "code",
   "execution_count": null,
   "id": "0f64f72e",
   "metadata": {},
   "outputs": [],
   "source": [
    "# For the ChemicalProcess table, find the mean Yield for each value of ManufacturingProcess38 (values: 0, 2, 3)\n",
    "# Does this process seem to make a big difference to the yield?\n",
    "\n",
    "yield0 = chemical.query(\"ManufacturingProcess38 == 0\")[\"Yield\"].mean()\n",
    "# yield2 =\n",
    "# yield3 ="
   ]
  },
  {
   "cell_type": "markdown",
   "id": "99d5afd9",
   "metadata": {},
   "source": []
  },
  {
   "cell_type": "markdown",
   "id": "a3b89049",
   "metadata": {},
   "source": [
    "## 7. Advanced: Setting the index"
   ]
  },
  {
   "cell_type": "markdown",
   "id": "b061b7e5",
   "metadata": {},
   "source": [
    "Take a look again at the backlaze data set:"
   ]
  },
  {
   "cell_type": "code",
   "execution_count": null,
   "id": "46c1e5b6",
   "metadata": {},
   "outputs": [],
   "source": [
    "display(backblaze)"
   ]
  },
  {
   "cell_type": "markdown",
   "id": "ec6394c4",
   "metadata": {},
   "source": [
    "The left-most column is the DataFrame index. Currently this is set simply as the row number (starting from 0).\n",
    "\n",
    "Is this the most natural index? What if we want to set the index to the date instead?\n",
    "\n",
    "We can use the method `.set_index()` to set any column as the index:"
   ]
  },
  {
   "cell_type": "code",
   "execution_count": null,
   "id": "0b327085",
   "metadata": {},
   "outputs": [],
   "source": [
    "backblaze_date_index = backblaze.set_index(\"date\")\n",
    "display(backblaze_date_index)"
   ]
  },
  {
   "cell_type": "markdown",
   "id": "3de1cde6",
   "metadata": {},
   "source": [
    "The reason we might do this is that now we can use our friend the `.loc()` method to index using dates (or date ranges):"
   ]
  },
  {
   "cell_type": "code",
   "execution_count": null,
   "id": "8cd72bfb",
   "metadata": {},
   "outputs": [],
   "source": [
    "backblaze_date_index.loc[\"2013/05/10\"]"
   ]
  },
  {
   "cell_type": "markdown",
   "id": "90b16b8a",
   "metadata": {},
   "source": [
    "We could also index instead by `serial_number`.\n",
    "\n",
    "Set the index to `serial_number` and try indexing using one of the serial number `ZJV4H4Q7`:"
   ]
  },
  {
   "cell_type": "code",
   "execution_count": null,
   "id": "dafd5d0b",
   "metadata": {},
   "outputs": [],
   "source": [
    "# backblaze_serial_index = ...\n",
    "\n",
    "# backblaze_serial_index.loc[\"ZJV4H4Q7\"]"
   ]
  },
  {
   "cell_type": "markdown",
   "id": "325d7bdf",
   "metadata": {},
   "source": [
    "Most often, it is most useful when an index is unique, i.e. an index points to a single row.\n",
    "\n",
    "This data set can be uniquely indexed by a _combination_ of `serial_number` and `date`.\n",
    "\n",
    "Pandas allows for hierarchical indexes using the method `.set_index([col1, col2, ...])`:"
   ]
  },
  {
   "cell_type": "code",
   "execution_count": null,
   "id": "6dc6e84d",
   "metadata": {},
   "outputs": [],
   "source": [
    "backblaze_multiindex = backblaze.set_index(\n",
    "    [\"serial_number\", \"date\"],\n",
    ").sort_index()\n",
    "display(blackblaze_multiindex)"
   ]
  },
  {
   "cell_type": "markdown",
   "id": "09fb7f9d",
   "metadata": {},
   "source": [
    "Multiindexes allow you to select data base on one or more of the index values. If the DataFrame index is sorted, this can make selection across very large data sets fast and efficient.\n",
    "\n",
    "Here are some examples of indexing with multiindexes:"
   ]
  },
  {
   "cell_type": "code",
   "execution_count": null,
   "id": "27d59f01",
   "metadata": {},
   "outputs": [],
   "source": [
    "# We can index one level, which returns a new DataFrame indexed by Date\n",
    "backblaze_multiindex.loc[\"Z3006275\"]"
   ]
  },
  {
   "cell_type": "code",
   "execution_count": null,
   "id": "332ac9ae",
   "metadata": {},
   "outputs": [],
   "source": [
    "# We can index two levels by calling .loc() twice\n",
    "backblaze_multiindex.loc[\"Z3006275\"].loc[\"2013/05/10\"]"
   ]
  },
  {
   "cell_type": "code",
   "execution_count": null,
   "id": "5bcb3cff",
   "metadata": {},
   "outputs": [],
   "source": [
    "# Or we can pass a tuple to loc() to do the same thing using the format:\n",
    "# df.loc[(level1, level2), :]\n",
    "backblaze_multiindex.loc[(\"Z3006275\", \"2013/05/10\"), :]"
   ]
  },
  {
   "cell_type": "code",
   "execution_count": null,
   "id": "fb33db53",
   "metadata": {},
   "outputs": [],
   "source": [
    "# Finally, set ranges as part of the indexes\n",
    "backblaze_multiindex.loc[\n",
    "    ([\"Z3006275\", \"Z3001Y9R\", \"Z3004WYG\"], slice(\"2013/01/01\", \"2016/01/01\")), :\n",
    "]"
   ]
  },
  {
   "cell_type": "markdown",
   "id": "65f4914e",
   "metadata": {},
   "source": []
  }
 ],
 "metadata": {
  "kernelspec": {
   "display_name": "env",
   "language": "python",
   "name": "python3"
  },
  "language_info": {
   "codemirror_mode": {
    "name": "ipython",
    "version": 3
   },
   "file_extension": ".py",
   "mimetype": "text/x-python",
   "name": "python",
   "nbconvert_exporter": "python",
   "pygments_lexer": "ipython3",
   "version": "3.10.11"
  }
 },
 "nbformat": 4,
 "nbformat_minor": 5
}
