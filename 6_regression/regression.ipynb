{
 "cells": [
  {
   "cell_type": "markdown",
   "id": "68ed9fa8",
   "metadata": {},
   "source": [
    "<img src=\"../assets/ittc_logo_full.png\" height=150 />\n",
    "\n",
    "# Practical 6: Regression\n",
    "\n",
    "In this workshop you will:\n",
    "\n",
    "* Perform linear regression on existing linear data\n",
    "* Analyze residuals and determine goodness of fit\n",
    "* Transform non-inear into a linear form\n",
    "* Make predictions based on these models"
   ]
  },
  {
   "cell_type": "markdown",
   "id": "090f5363",
   "metadata": {},
   "source": [
    "## 1. Getting started"
   ]
  },
  {
   "cell_type": "code",
   "execution_count": null,
   "id": "3dd2c1d5",
   "metadata": {},
   "outputs": [],
   "source": [
    "import numpy as np\n",
    "import matplotlib.pyplot as plt\n",
    "import pandas as pd\n",
    "import statsmodels.api as sm\n",
    "import statsmodels.formula.api as smf\n",
    "\n",
    "concrete = pd.read_csv(\"../data/concrete.csv\")\n",
    "concrete = concrete.query(\"CompressiveStrength < 100\")  # Filter the outlier"
   ]
  },
  {
   "cell_type": "markdown",
   "id": "df1cf5c5",
   "metadata": {},
   "source": [
    "## 2. Concrete: a univariable model\n",
    "\n",
    "As a first exercise, let't attempt to see if the CompressiveStrength of concrete can be modelled linearly based on the Cement content.\n",
    "\n",
    "First let's begin by plotting CompressiveStrength as a function of Cement. On a first pass, does the relationship look approximately linear?"
   ]
  },
  {
   "cell_type": "code",
   "execution_count": null,
   "id": "15aff514",
   "metadata": {},
   "outputs": [],
   "source": [
    "# plt.scatter(concrete[\"Cement\"], concrete[\"CompressiveStrength\"])"
   ]
  },
  {
   "cell_type": "markdown",
   "id": "6a65cf89",
   "metadata": {},
   "source": [
    "### 2.1 Building the model\n",
    "\n",
    "Now using the formula notation from statsmodels, lets model this degradation using an Ordinary Least Squares model. This process looks like:\n",
    "\n",
    "`model = smf.ols(formula=\"y ~ x\", data=df).fit()`\n",
    "\n",
    "But you will need to replace the data and the names of independent and dependent variables: `Cement` and `CompressiveStrength`."
   ]
  },
  {
   "cell_type": "code",
   "execution_count": null,
   "id": "950cc42b",
   "metadata": {},
   "outputs": [],
   "source": [
    "# model = smf.ols(formula=\"...\", data=concrete).fit()"
   ]
  },
  {
   "cell_type": "markdown",
   "id": "6dcbc8ef",
   "metadata": {},
   "source": [
    "The regression object (`model`) contains a number of useful properties and methods:\n",
    "\n",
    "* `model.params` is a list of the fitted parameters, in this case ordered as `[slope, intercept]`\n",
    "* `model.resid` is a list of residuals, i.e. $y - \\hat{y}$\n",
    "* `model.summary()` or `model.summary(slim=True)` returns a summary of the fit, its parameters and the goodness of fit tests\n",
    "* `model.predict()` returns the model's predicted values for each of the original independent variables (e.g. time)\n"
   ]
  },
  {
   "cell_type": "code",
   "execution_count": null,
   "id": "65569768",
   "metadata": {},
   "outputs": [],
   "source": [
    "# Experiment with some of these values"
   ]
  },
  {
   "cell_type": "markdown",
   "id": "8ee1e7f9",
   "metadata": {},
   "source": [
    "\n",
    "### 2.2 Assessing goodness of fit\n",
    "\n",
    "Let's explore some of these to determine whether our model fits the data well.\n",
    "\n",
    "First, let's assess the model using its summary field. Does the $R^2$ value indicate a good fit?"
   ]
  },
  {
   "cell_type": "code",
   "execution_count": null,
   "id": "cd86a591",
   "metadata": {},
   "outputs": [],
   "source": [
    "# model.summary(slim=True)"
   ]
  },
  {
   "cell_type": "markdown",
   "id": "0760b3ac",
   "metadata": {},
   "source": [
    "Next let's plot our model:\n",
    "\n",
    "1. Compare model with the underlying values\n",
    "2. Compare the variance of residuals\n",
    "3. Plot the QQ plot of the residuals to determine if they are normally distributed"
   ]
  },
  {
   "cell_type": "code",
   "execution_count": null,
   "id": "6e734b2c",
   "metadata": {},
   "outputs": [],
   "source": [
    "def make_comparison_plot(dataframe, xvar, yvar, model_fit_obj):\n",
    "    fig, (ax1, ax2, ax3) = plt.subplots(1, 3, figsize=(16, 5))\n",
    "\n",
    "    ax1.scatter(concrete[xvar], concrete[yvar])\n",
    "    ax1.plot(concrete[xvar], model_fit_obj.predict(), color=\"red\")\n",
    "    ax1.set_xlabel(f\"{xvar} unit\")\n",
    "    ax1.set_ylabel(yvar)\n",
    "    ax1.set_title(f\"{xvar} Model vs Values\")\n",
    "\n",
    "    ax2.scatter(concrete[xvar], model_fit_obj.resid)\n",
    "    ax2.grid()\n",
    "    ax2.set_ylabel(\"Residual\")\n",
    "    ax2.set_xlabel(\"{xvar} unit\")\n",
    "    ax2.set_title(\"Residuals\")\n",
    "\n",
    "    sm.qqplot(model_fit_obj.resid_pearson, line=\"45\", ax=ax3)\n",
    "    ax3.set_title(\"QQ Plot of residuals\")\n",
    "    plt.suptitle(f\"Analysis of Linear fit of {yvar} vs {xvar} units\")\n",
    "    plt.show()\n",
    "\n",
    "\n",
    "make_comparison_plot(concrete, xvar=\"Cement\", yvar=\"CompressiveStrength\", model_fit_obj=model)"
   ]
  },
  {
   "cell_type": "markdown",
   "id": "9f083240",
   "metadata": {},
   "source": [
    "Does the model seem reasonable? Remember to ask yourself:\n",
    "\n",
    "1. Are the residuals normally distributed about the regression line?\n",
    "2. Is this residual variation constant with respect to time?\n",
    "3. Does the original data appear linear?\n",
    "4. Are the observations independent?"
   ]
  },
  {
   "cell_type": "markdown",
   "id": "af8cae4d",
   "metadata": {},
   "source": [
    "## 3. Concrete: a multivariable model\n",
    "\n",
    "The previous model based on the single variable `Cement` did not sufficiently meet our conditions.\n",
    "\n",
    "What if we try a more complex model based on all of the parameters?\n",
    "\n",
    "### 3.1 Building the model\n",
    "\n",
    "Consider just 3 independent variables, `a`, `b`, `c`. Let's build a model that includes:\n",
    "\n",
    "* Each variable\n",
    "* Each comination of variables (\"coupled terms\")\n",
    "\n",
    "Or more explicitly: `y ~ a + b + c + a b + b c + a c`\n",
    "\n",
    "StatsModels formulas let us do this a little more succinctly: `y ~ (a + b + c)**2`\n",
    "\n",
    "Your task: fit a model model to each of the parameters in the `concrete` data DataFrame, as well as each combination of parameters.\n",
    "\n",
    "You can use the function we just made (`make_comparison_plot()`) to help visualise your result"
   ]
  },
  {
   "cell_type": "code",
   "execution_count": null,
   "id": "b7eb782d",
   "metadata": {},
   "outputs": [],
   "source": [
    "# model = smf.ols(formula=\"...\", data=concrete).fit()\n",
    "\n",
    "# make_comparison_plot(concrete, xvar=\"Cement\", yvar=\"CompressiveStrength\", model_fit_obj=model)"
   ]
  },
  {
   "cell_type": "code",
   "execution_count": null,
   "id": "835c0198",
   "metadata": {},
   "outputs": [],
   "source": [
    "# Another fit"
   ]
  },
  {
   "cell_type": "code",
   "execution_count": null,
   "id": "912d1fc5",
   "metadata": {},
   "outputs": [],
   "source": [
    "# another fit"
   ]
  },
  {
   "cell_type": "code",
   "execution_count": null,
   "id": "ebf0f28b",
   "metadata": {},
   "outputs": [],
   "source": []
  },
  {
   "cell_type": "code",
   "execution_count": null,
   "id": "29b135ec",
   "metadata": {},
   "outputs": [],
   "source": [
    "# Coupled fit! use \"y ~ (a + b + c)**2\", but replace y, a, b, c, with the variables in our dataframe"
   ]
  },
  {
   "cell_type": "markdown",
   "id": "319d2447",
   "metadata": {},
   "source": [
    "### 3.2 Assessing the goodness of fit\n",
    "\n",
    "Now have a look at the output of `model.summary(slim=True)`.\n",
    "\n",
    "* What does this tell you about the model?\n",
    "* Are there parameters are not statistically strong predictors of the CompressiveStrength?"
   ]
  },
  {
   "cell_type": "code",
   "execution_count": null,
   "id": "ba65c4c3",
   "metadata": {},
   "outputs": [],
   "source": [
    "# model.summary(slim=True)"
   ]
  },
  {
   "cell_type": "markdown",
   "id": "42149e4e",
   "metadata": {},
   "source": [
    "It is not easy to plot the model (since there are 8 input variables) but we can plot the residuals as well as the QQ plot to check for deviations from a normal distribution."
   ]
  },
  {
   "cell_type": "code",
   "execution_count": null,
   "id": "c0c01ab6",
   "metadata": {},
   "outputs": [],
   "source": [
    "# fig, (ax1, ax2) = plt.subplots(1, 2, figsize=(9, 4))\n",
    "# Plot the residuals and QQ plot on axes 1 and 2."
   ]
  },
  {
   "cell_type": "markdown",
   "id": "d1ecb201",
   "metadata": {},
   "source": [
    "Those residuals are quite large (~20) compared to the underlying values of the CompressiveStrength.\n",
    "\n",
    "Plot the actual value as a fraction of the predicted value using a BoxPlot. Do you think the model has good predictive power?"
   ]
  },
  {
   "cell_type": "code",
   "execution_count": null,
   "id": "cfbbc619",
   "metadata": {},
   "outputs": [],
   "source": [
    "# plt.boxplot(...);"
   ]
  },
  {
   "cell_type": "markdown",
   "id": "75467e52",
   "metadata": {},
   "source": [
    "## 3. Transformations"
   ]
  },
  {
   "cell_type": "markdown",
   "id": "f71e9cd7",
   "metadata": {},
   "source": [
    "Often a dataset is not linear and requires some transformation to make it so. In this final section we consider how to construct models from data that has been linearised under transformation.\n",
    "\n",
    "### 3.1 The model: ore fraction based on light absorbance\n",
    "\n",
    "Consider the following dataset that measures:\n",
    "\n",
    "* Ore fraction: the percentage of a particular mineral ore in particular sample\n",
    "* Aborbance: the absorbance of light at a particular wavelength [arbitrary units]\n",
    "\n",
    "**Our goal:** use a regression model to predict the amount of ore in a sample based on its absorbance."
   ]
  },
  {
   "cell_type": "code",
   "execution_count": null,
   "id": "0a147c7e",
   "metadata": {},
   "outputs": [],
   "source": [
    "ore = pd.read_csv(\"../data/ore.csv\")\n",
    "ore.sort_values(\"Absorbance\", inplace=True)\n",
    "display(ore)"
   ]
  },
  {
   "cell_type": "markdown",
   "id": "528c11c0",
   "metadata": {},
   "source": [
    "First, plot the ore fraction (`Amount`) as a function of the `Absorbance`. Does it look linear?"
   ]
  },
  {
   "cell_type": "code",
   "execution_count": null,
   "id": "678dd814",
   "metadata": {},
   "outputs": [],
   "source": [
    "plt.scatter(ore[\"Amount\"], ore[\"Absorbance\"])"
   ]
  },
  {
   "cell_type": "markdown",
   "id": "2b01a46d",
   "metadata": {},
   "source": [
    "### 3.2 Transforming the data\n",
    "\n",
    "The data is clearly not linear. It is our hope that there exists a simple transformation that make this data linear.\n",
    "\n",
    "![](images/BulgingRule.png)\n",
    "\n",
    "Work you way through each of the following transformations applied to the `Amount`. Which of these best linearises this data?\n",
    "\n",
    "* `np.sqrt(x)`\n",
    "* `np.log(x)`\n",
    "* `np.power(x, 1/3)` (cubed root)\n",
    "* `np.power(x, 2)` (squared)\n",
    "* `np.power(x, 3)` (cubed)\n"
   ]
  },
  {
   "cell_type": "code",
   "execution_count": null,
   "id": "b1326c0c",
   "metadata": {},
   "outputs": [],
   "source": [
    "# plt.scatter(ore[\"Absorbance\"], ...) vs Amount"
   ]
  },
  {
   "cell_type": "code",
   "execution_count": null,
   "id": "aa2c557f",
   "metadata": {},
   "outputs": [],
   "source": [
    "# Another plt.scatter()"
   ]
  },
  {
   "cell_type": "code",
   "execution_count": null,
   "id": "8fd71afc",
   "metadata": {},
   "outputs": [],
   "source": [
    "# Another plot"
   ]
  },
  {
   "cell_type": "code",
   "execution_count": null,
   "id": "66e41d3e",
   "metadata": {},
   "outputs": [],
   "source": []
  },
  {
   "cell_type": "markdown",
   "id": "77ad7f00",
   "metadata": {},
   "source": [
    "Once you have found the best transformation, we can create a model on the linearised data:\n",
    "\n",
    "Use a formula like: `np.power(y, 2) ~ x`"
   ]
  },
  {
   "cell_type": "code",
   "execution_count": null,
   "id": "7acb98e7",
   "metadata": {},
   "outputs": [],
   "source": [
    "# model = smf.ols(formula=\"... ~ Absorbance\", data=ore).fit()\n",
    "# model.summary(slim=True)"
   ]
  },
  {
   "cell_type": "markdown",
   "id": "8066a675",
   "metadata": {},
   "source": [
    "### 3.3 Assessing goodness of fit\n",
    "\n",
    "How does well does this model work for our transformed data set?\n",
    "\n",
    "Let's plot the model, residuals, and QQ plot:"
   ]
  },
  {
   "cell_type": "code",
   "execution_count": null,
   "id": "8b0bc431",
   "metadata": {},
   "outputs": [],
   "source": [
    "fig, (ax1, ax2, ax3) = plt.subplots(1, 3, figsize=(12, 4))\n",
    "\n",
    "ax1.scatter(ore[\"Absorbance\"], np.power(ore[\"Amount\"], 1 / 3))\n",
    "ax1.plot(ore[\"Absorbance\"], model.predict(), color=\"red\")\n",
    "\n",
    "ax2.scatter(ore[\"Absorbance\"], model.resid)\n",
    "ax2.grid(True)\n",
    "\n",
    "sm.qqplot(model.resid_pearson, ax=ax3, line=\"45\")"
   ]
  },
  {
   "cell_type": "markdown",
   "id": "2f6370b5",
   "metadata": {},
   "source": [
    "### 3.4 Confidence interval\n",
    "\n",
    "Remember that our model is subject to a certain amount of uncertainty which is captured by the **confidence** and **prediction** intervals.\n",
    "\n",
    "Use the `model.get_prediction().summary_frame(alpha=0.05)` to get a DataFrame with the lower and upper values for the model's prediction interval (`obs_ci_lower` and `obs_ci_higher`, respectively)."
   ]
  },
  {
   "cell_type": "code",
   "execution_count": null,
   "id": "cfd80fee",
   "metadata": {},
   "outputs": [],
   "source": [
    "# prediction = ...\n",
    "# display(prediction)"
   ]
  },
  {
   "cell_type": "markdown",
   "id": "8319fb05",
   "metadata": {},
   "source": [
    "### 3.5 Inverting the transformation\n",
    "\n",
    "\n",
    "To actually make predictions of the ore fraction, we need to reverse the transformation. i.e. appply the **inverse operation**.\n",
    "\n",
    "For example, if we had chosen `np.power(x, 2)` as our transformation, the model prediction would be the square root. e.g. `np.sqrt(prediction[\"mean\"])`\n",
    "\n",
    "Find the inverse transformation and plot the predicted values of `Amount` **and** the lower and upper confidence interval:"
   ]
  },
  {
   "cell_type": "code",
   "execution_count": null,
   "id": "7a3facd6",
   "metadata": {},
   "outputs": [],
   "source": [
    "# # Apply the inverse transformation to each of these columns:\n",
    "# modelvalues = prediction[\"mean\"]\n",
    "# ci_low = prediction[\"obs_ci_lower\"]\n",
    "# ci_high = prediction[\"obs_ci_upper\"]\n",
    "\n",
    "fig, ax = plt.subplots()\n",
    "ax.fill_between(ore[\"Absorbance\"], ci_low, ci_high, color=\"red\", alpha=0.2)\n",
    "ax.set_xlabel(\"Absorbance\")\n",
    "ax.set_ylabel(\"Amount\")\n",
    "ax.scatter(ore[\"Absorbance\"], ore[\"Amount\"])\n",
    "ax.plot(ore[\"Absorbance\"], modelvalues, color=\"red\")"
   ]
  },
  {
   "cell_type": "code",
   "execution_count": null,
   "id": "2b89d192",
   "metadata": {},
   "outputs": [],
   "source": []
  }
 ],
 "metadata": {
  "kernelspec": {
   "display_name": "ctmtds",
   "language": "python",
   "name": "python3"
  },
  "language_info": {
   "codemirror_mode": {
    "name": "ipython",
    "version": 3
   },
   "file_extension": ".py",
   "mimetype": "text/x-python",
   "name": "python",
   "nbconvert_exporter": "python",
   "pygments_lexer": "ipython3",
   "version": "3.11.0"
  }
 },
 "nbformat": 4,
 "nbformat_minor": 5
}
